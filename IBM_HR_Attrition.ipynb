{
  "cells": [
    {
      "cell_type": "markdown",
      "metadata": {
        "id": "-e6cFm-nd5n4"
      },
      "source": [
        "![uER1aYZc1szO9xRYhnzXp5YkaRc5NvArHMxSAjXx.png](data:image/png;base64,iVBORw0KGgoAAAANSUhEUgAAAWMAAACOCAMAAADTsZk7AAAAeFBMVEX///8fcMHu8/oDa8B1oNURbL8AZ77P3vDC0ukAZL2lwOLf6vaLsNsAaL4WbcBaj83W4vKvyOYAYryAptdQi8wAW7oAX7u1y+cAWLmjv+L3+v1unNNMh8rH2O29zujx9vvl7vgteMQ8gMiUtt6CqdhDgshmltCYt96tAacYAAAHF0lEQVR4nO2d22KiMBBAgQg2Kqislyp4Xdv+/x+uVkXAZEgm6VbInFfJBI6WkkkyeL4FwsC7ETAb8W4cjuPTdOI1049Q8ZMPhdgPhhzVSzz1UO1q/JDjswXGoiRb7n7Gsc9VvsCCEe7aXt3xNfpZc/9HHLM/Oo4PCaqTVji+dMDztx9w7PtrdcUb3K2iNY7Pdw2ey3/LaMcR9M3V6IW4Ptrj+Gw5zWT3ZbTj8FNZ8Rp3p2iX4/Ptky0tO/ZZII74zBLbR7scnx8ExP+k8I7PAhSZGfyOQ3NY/HAcMQsB5T3x415w/ZsUGzA+Kirep9gL41OvZ4HHjXKX2YgHddUTPApM8L1mijeLN3QX2UbxayQIgiAIgiAINwhsYDmcZp/e2ixSY4LTNDyzQFQeS/8n4vHDwSY1iRQ1Jd/6RuF5y3JCZfgj94vPCX2TNPyQ/xhdVNvybmVKM56GjqMt7NjsPNvs2E+Hlhw3ZOo3ZtFb7Zh9WXLsM3Diu2d2Ta12nOS2HEeS+ZUrhpfUasd+8Thj6jgcS/RauFW03fH9ycLUsZ8CTxaGt4qLY5NHv+IJ8+GY24inCB/df2oLw0gpMK1n9HB8jT2ywWOuyUo4VVa3Xocn00hyx8axT/AaJ4IgCIIgCIIgzs/dEHvdaGt8OLjpcAgsVts1NH1GECSwEURI8M7lpHlzgCqTORBukYFNoTM5Nx7Jmw6gXkXMBWv/DqlmkHfV9cxBCqQ4EihHJRYFZWzCHtS0YbtW/CVvOo01czeCMwHPXEjaPcdA3lfbsR8/Jd9O2im37jmG9tfpO37O1OtnNbvnOAGuSN/x05W96aelO+cY3Iur79hPa9N6mf5usc45ZiegKcJxvKpEWCM2PXbOcQTttEA4rv1dICJoOJ4DUyd8philYALNBHH4+RhqGjNofc8AMUc0r/wP/UCsK5urOl6vBnJW4Dy5iAAMB+6mhZuCZzKBmsoilqeFQAvSCBobsAmCIAiCIAiCuLHe9AG06nV9h4OiYWmc1AmQgW/jc2xr1TFI8B7Jwcw1AeFw8HnjQr0BstfreHqDbP2Sc0044ubCbJiMzoVrzTfsouOXzLuhSA7NvWId++GlNfaUu+OY700dAwWYLqvzoSJYYO2mzjhOVSrfgY6TsdzUZScZ8LEPfdYZx1ypXhjomA0O8g/jXSA/Y3b6dMCxmmLYcbwEpvXjJdA2GjrwO27aeKvmeDqRz2IlM3m9vOQI3kd05pqAJ0D+u8/HTHUINFgAURYDz+fyS5R/tFh5ufzT89O18lzT9g1Ae5vODgynx1a5PuYejDP0+rj+d3DDLc01EQRBEARBEIQ+LzwGedur9to0BrmgeWLXUbydMcgrj6W56hs9msbSF8Bh8RPprLmR8lj6pXNCUMmUMnBO6Op4q3Vmt2yUA3k3n6+au1R0vNbq+FbO0AXHPh/Ycqw1NXpf8e+EYwtzTXfHfY0tH3zjkmOl994pOfaO6m+vuc+FO+I4UXgnm5rjL+UVAsUmKkccG69hKRwHyjeL4m/HkuPOr8VaFP82Z6lij8WymRxqobwWy4E1hYWKvXaHE+go5TWFBEEQBEEQBEE86H5thVV5IAV2cj28PHpbgoHV55qAKhgvVCMkQtcISSspaL+hGEjkl4+eQSX3X3Ku6Xdq3cQVx6OGTD2rlENsX97td2o2VR03VDjzeSU54pbjBHrJuYZj7wPM1CfVTKNbjvE19GqOV+DNonawY47RtSBr2uBMfVQtreeYY3RN05pj0Fv9zW+uOcbW5q07hvaV1jdS2ZprAqood6LG9Ly+DgY4OK0dmkN1p5XnmhyolV5/KeFe/QSBQ4fqtdIJgiAIgiAIwlk2Wc+cYmi6sxFNmb/3bkeaDTNBdr8vOHXRcX+1T9ObWnhbcVQsVQ0QNdzRFO8+9vJYs6Vgu8NOIEKUfphp9sUYvg5aCfZw/Cvv8PbkxWnE1HNC3zy/DkT4/nQwJySkzY7jIutgxfHmKcn3/HYh1xyX5oCsOPaeDhNOfDvluJQ9tuO4Pj8dCvOuTjlO95Yd12cExGXOXHKclBbT2HFc30nGhQe55Li8O92S40HFBRNPg42130bW2ufjuPxclWt2K9kOXD37VLwMaaZ9id46sMBj6sZGNDXK173TbSxZKSfvwaAv5Sk+giAIgiAIgnACG3NN2f+ba8p6ouGD9lyTfDfV8noF8tWKqLmm0JjKWNo8nByWHoWjpjzWiwOU1posvg+QFzibafYVhq3KCSVcUuPGUk7om8MlFrCOuNt5t9iXbRaz6fhSxglayN5lx0l6ku55tOl4H0km8jrvOOEzYP20TcdenvgxsIO1q45ZNIb2lNp1PI0k2fkOOw6jJGsoxmXVcRCCm4S75jhhcZR8Luu7N37WsffpQ592y/HhmH0tlXax2HW8hfZhIxz/A3mBGpF+5bOtAAAAAElFTkSuQmCC)\n",
        "\n"
      ]
    },
    {
      "cell_type": "markdown",
      "metadata": {
        "id": "CBTffywReQ3-"
      },
      "source": [
        "# Business Problem"
      ]
    },
    {
      "cell_type": "markdown",
      "metadata": {
        "id": "FBP3QDXZepDU"
      },
      "source": [
        "## 💼 Attrition in an Organization || Why Workers Quit?\n",
        "\n",
        "---\n",
        "\n",
        "Employees are the backbone of the organization. Organization's performance is heavily based on the quality of the employees. Challenges that an organization has to face due employee attrition are:\n",
        "\n",
        "> 1. Expensive in terms of both money and time to train new employees.\n",
        "> 1. Loss of experienced employees\n",
        "> 1. Impact in productivity\n",
        "> 1. Impact profit\n",
        "\n",
        "Currently, our company is experiencing a departure of a significant number of former employees, comprising approximately 16% of our workforce."
      ]
    },
    {
      "cell_type": "markdown",
      "metadata": {
        "id": "x-nKbfxOe9GP"
      },
      "source": [
        "___\n",
        " Objective : Figure out why Workers Quit\n",
        "___\n",
        "\n",
        "___\n",
        " Expected Output : Reccomendation to improve in IBM how to reduce their attrition rate from 16% to 9% annually by the end of the year\n",
        "___"
      ]
    },
    {
      "cell_type": "markdown",
      "metadata": {
        "id": "ZcrqbbJazGFm"
      },
      "source": [
        "# Library Preparation"
      ]
    },
    {
      "cell_type": "code",
      "execution_count": null,
      "metadata": {
        "id": "-IUAIvF2RUjI"
      },
      "outputs": [],
      "source": [
        "import pandas as pd                 # Library used for working with data sets and perform data analysis.\n",
        "import numpy as np                  # To perform mathematical operasion and statistics\n",
        "from datetime import datetime       # Used to perform dates and time manipulation\n",
        "import seaborn as sns               # To perform data visualization\n",
        "import matplotlib.pyplot as plt     # To perform data visualization"
      ]
    },
    {
      "cell_type": "code",
      "execution_count": null,
      "metadata": {
        "id": "N1MaBzRRmUBa",
        "colab": {
          "base_uri": "https://localhost:8080/"
        },
        "outputId": "27b36814-d63b-4326-e15e-1532b79ab3e9"
      },
      "outputs": [
        {
          "output_type": "stream",
          "name": "stdout",
          "text": [
            "\u001b[?25l     \u001b[90m━━━━━━━━━━━━━━━━━━━━━━━━━━━━━━━━━━━━━━━━\u001b[0m \u001b[32m0.0/1.8 MB\u001b[0m \u001b[31m?\u001b[0m eta \u001b[36m-:--:--\u001b[0m\r\u001b[2K     \u001b[91m━━\u001b[0m\u001b[91m╸\u001b[0m\u001b[90m━━━━━━━━━━━━━━━━━━━━━━━━━━━━━━━━━━━━━\u001b[0m \u001b[32m0.1/1.8 MB\u001b[0m \u001b[31m3.3 MB/s\u001b[0m eta \u001b[36m0:00:01\u001b[0m\r\u001b[2K     \u001b[91m━━━━━━━━━━\u001b[0m\u001b[91m╸\u001b[0m\u001b[90m━━━━━━━━━━━━━━━━━━━━━━━━━━━━━\u001b[0m \u001b[32m0.5/1.8 MB\u001b[0m \u001b[31m6.6 MB/s\u001b[0m eta \u001b[36m0:00:01\u001b[0m\r\u001b[2K     \u001b[91m━━━━━━━━━━━━━━━━━━━\u001b[0m\u001b[91m╸\u001b[0m\u001b[90m━━━━━━━━━━━━━━━━━━━━\u001b[0m \u001b[32m0.9/1.8 MB\u001b[0m \u001b[31m8.1 MB/s\u001b[0m eta \u001b[36m0:00:01\u001b[0m\r\u001b[2K     \u001b[91m━━━━━━━━━━━━━━━━━━━━━━━━━━━━━\u001b[0m\u001b[91m╸\u001b[0m\u001b[90m━━━━━━━━━━\u001b[0m \u001b[32m1.3/1.8 MB\u001b[0m \u001b[31m9.2 MB/s\u001b[0m eta \u001b[36m0:00:01\u001b[0m\r\u001b[2K     \u001b[91m━━━━━━━━━━━━━━━━━━━━━━━━━━━━━━━━━━━━━━━\u001b[0m\u001b[91m╸\u001b[0m \u001b[32m1.8/1.8 MB\u001b[0m \u001b[31m10.2 MB/s\u001b[0m eta \u001b[36m0:00:01\u001b[0m\r\u001b[2K     \u001b[90m━━━━━━━━━━━━━━━━━━━━━━━━━━━━━━━━━━━━━━━━\u001b[0m \u001b[32m1.8/1.8 MB\u001b[0m \u001b[31m8.8 MB/s\u001b[0m eta \u001b[36m0:00:00\u001b[0m\n",
            "\u001b[?25h"
          ]
        }
      ],
      "source": [
        "!pip install -q hvplot"
      ]
    },
    {
      "cell_type": "code",
      "execution_count": null,
      "metadata": {
        "id": "WsRGppNcmW1s"
      },
      "outputs": [],
      "source": [
        "import hvplot"
      ]
    },
    {
      "cell_type": "code",
      "source": [
        "import re\n",
        "from sklearn import cluster\n",
        "from yellowbrick.cluster import SilhouetteVisualizer\n",
        "from scipy import stats\n",
        "from sklearn.decomposition import PCA\n",
        "from sklearn.linear_model import LogisticRegression\n",
        "from sklearn.metrics import classification_report, confusion_matrix\n",
        "\n",
        "from sklearn.preprocessing import MinMaxScaler, StandardScaler, RobustScaler\n",
        "pd.options.display.float_format = '{:,.2f}'.format # add thousand separator for float (salah satu aja)"
      ],
      "metadata": {
        "id": "UdEflTR7l6PP"
      },
      "execution_count": null,
      "outputs": []
    },
    {
      "cell_type": "markdown",
      "metadata": {
        "id": "OV2B1vL-zJCP"
      },
      "source": [
        "# Dataset"
      ]
    },
    {
      "cell_type": "code",
      "execution_count": null,
      "metadata": {
        "id": "rJ_g88vqbTgf",
        "outputId": "8cecf2c8-0ab4-4647-c802-b421d4d8ecdf",
        "colab": {
          "base_uri": "https://localhost:8080/"
        }
      },
      "outputs": [
        {
          "output_type": "stream",
          "name": "stdout",
          "text": [
            "https://docs.google.com/spreadsheets/d/18Lvnq5HqI1iBoOcjDKX4c5A_SjGg8-rmXhYMp1KqMek/export?format=csv&gid=2077431593\n"
          ]
        },
        {
          "output_type": "execute_result",
          "data": {
            "text/plain": [
              "   Age  BusinessTravel  DailyRate              Department  DistanceFromHome  \\\n",
              "0   41               1       1102                   Sales                 1   \n",
              "1   49               2        279  Research & Development                 8   \n",
              "2   37               1       1373  Research & Development                 2   \n",
              "3   33               2       1392  Research & Development                 3   \n",
              "4   27               1        591  Research & Development                 2   \n",
              "\n",
              "   Education EducationField  EmployeeNumber  EnvironmentSatisfaction  Gender  \\\n",
              "0          2  Life Sciences               1                        2       0   \n",
              "1          1  Life Sciences               2                        3       1   \n",
              "2          2          Other               4                        4       1   \n",
              "3          4  Life Sciences               5                        4       0   \n",
              "4          1        Medical               7                        1       1   \n",
              "\n",
              "   ...  PerformanceRating  RelationshipSatisfaction  StockOptionLevel  \\\n",
              "0  ...                  3                         1                 0   \n",
              "1  ...                  4                         4                 1   \n",
              "2  ...                  3                         2                 0   \n",
              "3  ...                  3                         3                 0   \n",
              "4  ...                  3                         4                 1   \n",
              "\n",
              "  TotalWorkingYears  TrainingTimesLastYear WorkLifeBalance  \\\n",
              "0                 8                      0               1   \n",
              "1                10                      3               3   \n",
              "2                 7                      3               3   \n",
              "3                 8                      3               3   \n",
              "4                 6                      3               3   \n",
              "\n",
              "   YearsInCurrentRole  YearsSinceLastPromotion  YearsWithCurrManager Attrition  \n",
              "0                   4                        0                     5         0  \n",
              "1                   7                        1                     7         1  \n",
              "2                   0                        0                     0         0  \n",
              "3                   7                        3                     0         1  \n",
              "4                   2                        2                     2         1  \n",
              "\n",
              "[5 rows x 32 columns]"
            ],
            "text/html": [
              "\n",
              "  <div id=\"df-3b60ff14-52d5-4a2b-9e51-af7f545a4006\" class=\"colab-df-container\">\n",
              "    <div>\n",
              "<style scoped>\n",
              "    .dataframe tbody tr th:only-of-type {\n",
              "        vertical-align: middle;\n",
              "    }\n",
              "\n",
              "    .dataframe tbody tr th {\n",
              "        vertical-align: top;\n",
              "    }\n",
              "\n",
              "    .dataframe thead th {\n",
              "        text-align: right;\n",
              "    }\n",
              "</style>\n",
              "<table border=\"1\" class=\"dataframe\">\n",
              "  <thead>\n",
              "    <tr style=\"text-align: right;\">\n",
              "      <th></th>\n",
              "      <th>Age</th>\n",
              "      <th>BusinessTravel</th>\n",
              "      <th>DailyRate</th>\n",
              "      <th>Department</th>\n",
              "      <th>DistanceFromHome</th>\n",
              "      <th>Education</th>\n",
              "      <th>EducationField</th>\n",
              "      <th>EmployeeNumber</th>\n",
              "      <th>EnvironmentSatisfaction</th>\n",
              "      <th>Gender</th>\n",
              "      <th>...</th>\n",
              "      <th>PerformanceRating</th>\n",
              "      <th>RelationshipSatisfaction</th>\n",
              "      <th>StockOptionLevel</th>\n",
              "      <th>TotalWorkingYears</th>\n",
              "      <th>TrainingTimesLastYear</th>\n",
              "      <th>WorkLifeBalance</th>\n",
              "      <th>YearsInCurrentRole</th>\n",
              "      <th>YearsSinceLastPromotion</th>\n",
              "      <th>YearsWithCurrManager</th>\n",
              "      <th>Attrition</th>\n",
              "    </tr>\n",
              "  </thead>\n",
              "  <tbody>\n",
              "    <tr>\n",
              "      <th>0</th>\n",
              "      <td>41</td>\n",
              "      <td>1</td>\n",
              "      <td>1102</td>\n",
              "      <td>Sales</td>\n",
              "      <td>1</td>\n",
              "      <td>2</td>\n",
              "      <td>Life Sciences</td>\n",
              "      <td>1</td>\n",
              "      <td>2</td>\n",
              "      <td>0</td>\n",
              "      <td>...</td>\n",
              "      <td>3</td>\n",
              "      <td>1</td>\n",
              "      <td>0</td>\n",
              "      <td>8</td>\n",
              "      <td>0</td>\n",
              "      <td>1</td>\n",
              "      <td>4</td>\n",
              "      <td>0</td>\n",
              "      <td>5</td>\n",
              "      <td>0</td>\n",
              "    </tr>\n",
              "    <tr>\n",
              "      <th>1</th>\n",
              "      <td>49</td>\n",
              "      <td>2</td>\n",
              "      <td>279</td>\n",
              "      <td>Research &amp; Development</td>\n",
              "      <td>8</td>\n",
              "      <td>1</td>\n",
              "      <td>Life Sciences</td>\n",
              "      <td>2</td>\n",
              "      <td>3</td>\n",
              "      <td>1</td>\n",
              "      <td>...</td>\n",
              "      <td>4</td>\n",
              "      <td>4</td>\n",
              "      <td>1</td>\n",
              "      <td>10</td>\n",
              "      <td>3</td>\n",
              "      <td>3</td>\n",
              "      <td>7</td>\n",
              "      <td>1</td>\n",
              "      <td>7</td>\n",
              "      <td>1</td>\n",
              "    </tr>\n",
              "    <tr>\n",
              "      <th>2</th>\n",
              "      <td>37</td>\n",
              "      <td>1</td>\n",
              "      <td>1373</td>\n",
              "      <td>Research &amp; Development</td>\n",
              "      <td>2</td>\n",
              "      <td>2</td>\n",
              "      <td>Other</td>\n",
              "      <td>4</td>\n",
              "      <td>4</td>\n",
              "      <td>1</td>\n",
              "      <td>...</td>\n",
              "      <td>3</td>\n",
              "      <td>2</td>\n",
              "      <td>0</td>\n",
              "      <td>7</td>\n",
              "      <td>3</td>\n",
              "      <td>3</td>\n",
              "      <td>0</td>\n",
              "      <td>0</td>\n",
              "      <td>0</td>\n",
              "      <td>0</td>\n",
              "    </tr>\n",
              "    <tr>\n",
              "      <th>3</th>\n",
              "      <td>33</td>\n",
              "      <td>2</td>\n",
              "      <td>1392</td>\n",
              "      <td>Research &amp; Development</td>\n",
              "      <td>3</td>\n",
              "      <td>4</td>\n",
              "      <td>Life Sciences</td>\n",
              "      <td>5</td>\n",
              "      <td>4</td>\n",
              "      <td>0</td>\n",
              "      <td>...</td>\n",
              "      <td>3</td>\n",
              "      <td>3</td>\n",
              "      <td>0</td>\n",
              "      <td>8</td>\n",
              "      <td>3</td>\n",
              "      <td>3</td>\n",
              "      <td>7</td>\n",
              "      <td>3</td>\n",
              "      <td>0</td>\n",
              "      <td>1</td>\n",
              "    </tr>\n",
              "    <tr>\n",
              "      <th>4</th>\n",
              "      <td>27</td>\n",
              "      <td>1</td>\n",
              "      <td>591</td>\n",
              "      <td>Research &amp; Development</td>\n",
              "      <td>2</td>\n",
              "      <td>1</td>\n",
              "      <td>Medical</td>\n",
              "      <td>7</td>\n",
              "      <td>1</td>\n",
              "      <td>1</td>\n",
              "      <td>...</td>\n",
              "      <td>3</td>\n",
              "      <td>4</td>\n",
              "      <td>1</td>\n",
              "      <td>6</td>\n",
              "      <td>3</td>\n",
              "      <td>3</td>\n",
              "      <td>2</td>\n",
              "      <td>2</td>\n",
              "      <td>2</td>\n",
              "      <td>1</td>\n",
              "    </tr>\n",
              "  </tbody>\n",
              "</table>\n",
              "<p>5 rows × 32 columns</p>\n",
              "</div>\n",
              "    <div class=\"colab-df-buttons\">\n",
              "\n",
              "  <div class=\"colab-df-container\">\n",
              "    <button class=\"colab-df-convert\" onclick=\"convertToInteractive('df-3b60ff14-52d5-4a2b-9e51-af7f545a4006')\"\n",
              "            title=\"Convert this dataframe to an interactive table.\"\n",
              "            style=\"display:none;\">\n",
              "\n",
              "  <svg xmlns=\"http://www.w3.org/2000/svg\" height=\"24px\" viewBox=\"0 -960 960 960\">\n",
              "    <path d=\"M120-120v-720h720v720H120Zm60-500h600v-160H180v160Zm220 220h160v-160H400v160Zm0 220h160v-160H400v160ZM180-400h160v-160H180v160Zm440 0h160v-160H620v160ZM180-180h160v-160H180v160Zm440 0h160v-160H620v160Z\"/>\n",
              "  </svg>\n",
              "    </button>\n",
              "\n",
              "  <style>\n",
              "    .colab-df-container {\n",
              "      display:flex;\n",
              "      gap: 12px;\n",
              "    }\n",
              "\n",
              "    .colab-df-convert {\n",
              "      background-color: #E8F0FE;\n",
              "      border: none;\n",
              "      border-radius: 50%;\n",
              "      cursor: pointer;\n",
              "      display: none;\n",
              "      fill: #1967D2;\n",
              "      height: 32px;\n",
              "      padding: 0 0 0 0;\n",
              "      width: 32px;\n",
              "    }\n",
              "\n",
              "    .colab-df-convert:hover {\n",
              "      background-color: #E2EBFA;\n",
              "      box-shadow: 0px 1px 2px rgba(60, 64, 67, 0.3), 0px 1px 3px 1px rgba(60, 64, 67, 0.15);\n",
              "      fill: #174EA6;\n",
              "    }\n",
              "\n",
              "    .colab-df-buttons div {\n",
              "      margin-bottom: 4px;\n",
              "    }\n",
              "\n",
              "    [theme=dark] .colab-df-convert {\n",
              "      background-color: #3B4455;\n",
              "      fill: #D2E3FC;\n",
              "    }\n",
              "\n",
              "    [theme=dark] .colab-df-convert:hover {\n",
              "      background-color: #434B5C;\n",
              "      box-shadow: 0px 1px 3px 1px rgba(0, 0, 0, 0.15);\n",
              "      filter: drop-shadow(0px 1px 2px rgba(0, 0, 0, 0.3));\n",
              "      fill: #FFFFFF;\n",
              "    }\n",
              "  </style>\n",
              "\n",
              "    <script>\n",
              "      const buttonEl =\n",
              "        document.querySelector('#df-3b60ff14-52d5-4a2b-9e51-af7f545a4006 button.colab-df-convert');\n",
              "      buttonEl.style.display =\n",
              "        google.colab.kernel.accessAllowed ? 'block' : 'none';\n",
              "\n",
              "      async function convertToInteractive(key) {\n",
              "        const element = document.querySelector('#df-3b60ff14-52d5-4a2b-9e51-af7f545a4006');\n",
              "        const dataTable =\n",
              "          await google.colab.kernel.invokeFunction('convertToInteractive',\n",
              "                                                    [key], {});\n",
              "        if (!dataTable) return;\n",
              "\n",
              "        const docLinkHtml = 'Like what you see? Visit the ' +\n",
              "          '<a target=\"_blank\" href=https://colab.research.google.com/notebooks/data_table.ipynb>data table notebook</a>'\n",
              "          + ' to learn more about interactive tables.';\n",
              "        element.innerHTML = '';\n",
              "        dataTable['output_type'] = 'display_data';\n",
              "        await google.colab.output.renderOutput(dataTable, element);\n",
              "        const docLink = document.createElement('div');\n",
              "        docLink.innerHTML = docLinkHtml;\n",
              "        element.appendChild(docLink);\n",
              "      }\n",
              "    </script>\n",
              "  </div>\n",
              "\n",
              "\n",
              "<div id=\"df-28b56419-0820-4afe-b82b-8ad3a8a2620d\">\n",
              "  <button class=\"colab-df-quickchart\" onclick=\"quickchart('df-28b56419-0820-4afe-b82b-8ad3a8a2620d')\"\n",
              "            title=\"Suggest charts\"\n",
              "            style=\"display:none;\">\n",
              "\n",
              "<svg xmlns=\"http://www.w3.org/2000/svg\" height=\"24px\"viewBox=\"0 0 24 24\"\n",
              "     width=\"24px\">\n",
              "    <g>\n",
              "        <path d=\"M19 3H5c-1.1 0-2 .9-2 2v14c0 1.1.9 2 2 2h14c1.1 0 2-.9 2-2V5c0-1.1-.9-2-2-2zM9 17H7v-7h2v7zm4 0h-2V7h2v10zm4 0h-2v-4h2v4z\"/>\n",
              "    </g>\n",
              "</svg>\n",
              "  </button>\n",
              "\n",
              "<style>\n",
              "  .colab-df-quickchart {\n",
              "      --bg-color: #E8F0FE;\n",
              "      --fill-color: #1967D2;\n",
              "      --hover-bg-color: #E2EBFA;\n",
              "      --hover-fill-color: #174EA6;\n",
              "      --disabled-fill-color: #AAA;\n",
              "      --disabled-bg-color: #DDD;\n",
              "  }\n",
              "\n",
              "  [theme=dark] .colab-df-quickchart {\n",
              "      --bg-color: #3B4455;\n",
              "      --fill-color: #D2E3FC;\n",
              "      --hover-bg-color: #434B5C;\n",
              "      --hover-fill-color: #FFFFFF;\n",
              "      --disabled-bg-color: #3B4455;\n",
              "      --disabled-fill-color: #666;\n",
              "  }\n",
              "\n",
              "  .colab-df-quickchart {\n",
              "    background-color: var(--bg-color);\n",
              "    border: none;\n",
              "    border-radius: 50%;\n",
              "    cursor: pointer;\n",
              "    display: none;\n",
              "    fill: var(--fill-color);\n",
              "    height: 32px;\n",
              "    padding: 0;\n",
              "    width: 32px;\n",
              "  }\n",
              "\n",
              "  .colab-df-quickchart:hover {\n",
              "    background-color: var(--hover-bg-color);\n",
              "    box-shadow: 0 1px 2px rgba(60, 64, 67, 0.3), 0 1px 3px 1px rgba(60, 64, 67, 0.15);\n",
              "    fill: var(--button-hover-fill-color);\n",
              "  }\n",
              "\n",
              "  .colab-df-quickchart-complete:disabled,\n",
              "  .colab-df-quickchart-complete:disabled:hover {\n",
              "    background-color: var(--disabled-bg-color);\n",
              "    fill: var(--disabled-fill-color);\n",
              "    box-shadow: none;\n",
              "  }\n",
              "\n",
              "  .colab-df-spinner {\n",
              "    border: 2px solid var(--fill-color);\n",
              "    border-color: transparent;\n",
              "    border-bottom-color: var(--fill-color);\n",
              "    animation:\n",
              "      spin 1s steps(1) infinite;\n",
              "  }\n",
              "\n",
              "  @keyframes spin {\n",
              "    0% {\n",
              "      border-color: transparent;\n",
              "      border-bottom-color: var(--fill-color);\n",
              "      border-left-color: var(--fill-color);\n",
              "    }\n",
              "    20% {\n",
              "      border-color: transparent;\n",
              "      border-left-color: var(--fill-color);\n",
              "      border-top-color: var(--fill-color);\n",
              "    }\n",
              "    30% {\n",
              "      border-color: transparent;\n",
              "      border-left-color: var(--fill-color);\n",
              "      border-top-color: var(--fill-color);\n",
              "      border-right-color: var(--fill-color);\n",
              "    }\n",
              "    40% {\n",
              "      border-color: transparent;\n",
              "      border-right-color: var(--fill-color);\n",
              "      border-top-color: var(--fill-color);\n",
              "    }\n",
              "    60% {\n",
              "      border-color: transparent;\n",
              "      border-right-color: var(--fill-color);\n",
              "    }\n",
              "    80% {\n",
              "      border-color: transparent;\n",
              "      border-right-color: var(--fill-color);\n",
              "      border-bottom-color: var(--fill-color);\n",
              "    }\n",
              "    90% {\n",
              "      border-color: transparent;\n",
              "      border-bottom-color: var(--fill-color);\n",
              "    }\n",
              "  }\n",
              "</style>\n",
              "\n",
              "  <script>\n",
              "    async function quickchart(key) {\n",
              "      const quickchartButtonEl =\n",
              "        document.querySelector('#' + key + ' button');\n",
              "      quickchartButtonEl.disabled = true;  // To prevent multiple clicks.\n",
              "      quickchartButtonEl.classList.add('colab-df-spinner');\n",
              "      try {\n",
              "        const charts = await google.colab.kernel.invokeFunction(\n",
              "            'suggestCharts', [key], {});\n",
              "      } catch (error) {\n",
              "        console.error('Error during call to suggestCharts:', error);\n",
              "      }\n",
              "      quickchartButtonEl.classList.remove('colab-df-spinner');\n",
              "      quickchartButtonEl.classList.add('colab-df-quickchart-complete');\n",
              "    }\n",
              "    (() => {\n",
              "      let quickchartButtonEl =\n",
              "        document.querySelector('#df-28b56419-0820-4afe-b82b-8ad3a8a2620d button');\n",
              "      quickchartButtonEl.style.display =\n",
              "        google.colab.kernel.accessAllowed ? 'block' : 'none';\n",
              "    })();\n",
              "  </script>\n",
              "</div>\n",
              "    </div>\n",
              "  </div>\n"
            ],
            "application/vnd.google.colaboratory.intrinsic+json": {
              "type": "dataframe",
              "variable_name": "df"
            }
          },
          "metadata": {},
          "execution_count": 5
        }
      ],
      "source": [
        "# Open Google Sheet file\n",
        "sheet_url = 'https://docs.google.com/spreadsheets/d/18Lvnq5HqI1iBoOcjDKX4c5A_SjGg8-rmXhYMp1KqMek/edit#gid=2077431593'\n",
        "sheet_url_trf = sheet_url.replace('/edit#gid=', '/export?format=csv&gid=')\n",
        "print(sheet_url_trf)\n",
        "df = pd.read_csv(sheet_url_trf)\n",
        "df.head()"
      ]
    },
    {
      "cell_type": "code",
      "execution_count": null,
      "metadata": {
        "id": "UCdQwU03boqa"
      },
      "outputs": [],
      "source": [
        "hr = df.copy()"
      ]
    },
    {
      "cell_type": "code",
      "execution_count": null,
      "metadata": {
        "id": "7gE-m2igbvnd",
        "outputId": "4df4d878-38c3-4eac-803d-67ebd7c52e18",
        "colab": {
          "base_uri": "https://localhost:8080/"
        }
      },
      "outputs": [
        {
          "output_type": "stream",
          "name": "stdout",
          "text": [
            "<class 'pandas.core.frame.DataFrame'>\n",
            "RangeIndex: 1470 entries, 0 to 1469\n",
            "Data columns (total 32 columns):\n",
            " #   Column                    Non-Null Count  Dtype \n",
            "---  ------                    --------------  ----- \n",
            " 0   Age                       1470 non-null   int64 \n",
            " 1   BusinessTravel            1470 non-null   int64 \n",
            " 2   DailyRate                 1470 non-null   int64 \n",
            " 3   Department                1470 non-null   object\n",
            " 4   DistanceFromHome          1470 non-null   int64 \n",
            " 5   Education                 1470 non-null   int64 \n",
            " 6   EducationField            1470 non-null   object\n",
            " 7   EmployeeNumber            1470 non-null   int64 \n",
            " 8   EnvironmentSatisfaction   1470 non-null   int64 \n",
            " 9   Gender                    1470 non-null   int64 \n",
            " 10  HourlyRate                1470 non-null   int64 \n",
            " 11  JobInvolvement            1470 non-null   int64 \n",
            " 12  JobLevel                  1470 non-null   int64 \n",
            " 13  JobRole                   1470 non-null   object\n",
            " 14  JobSatisfaction           1470 non-null   int64 \n",
            " 15  MaritalStatus             1470 non-null   object\n",
            " 16  MonthlyIncome             1470 non-null   int64 \n",
            " 17  MonthlyRate               1470 non-null   int64 \n",
            " 18  NumCompaniesWorked        1470 non-null   int64 \n",
            " 19  Over18                    1470 non-null   object\n",
            " 20  OverTime                  1470 non-null   object\n",
            " 21  PercentSalaryHike         1470 non-null   int64 \n",
            " 22  PerformanceRating         1470 non-null   int64 \n",
            " 23  RelationshipSatisfaction  1470 non-null   int64 \n",
            " 24  StockOptionLevel          1470 non-null   int64 \n",
            " 25  TotalWorkingYears         1470 non-null   int64 \n",
            " 26  TrainingTimesLastYear     1470 non-null   int64 \n",
            " 27  WorkLifeBalance           1470 non-null   int64 \n",
            " 28  YearsInCurrentRole        1470 non-null   int64 \n",
            " 29  YearsSinceLastPromotion   1470 non-null   int64 \n",
            " 30  YearsWithCurrManager      1470 non-null   int64 \n",
            " 31  Attrition                 1470 non-null   int64 \n",
            "dtypes: int64(26), object(6)\n",
            "memory usage: 367.6+ KB\n"
          ]
        }
      ],
      "source": [
        "hr.info()"
      ]
    },
    {
      "cell_type": "markdown",
      "metadata": {
        "id": "_8Q5jS0azCx0"
      },
      "source": [
        "# Data Cleaning"
      ]
    },
    {
      "cell_type": "markdown",
      "source": [
        "## Change Data Type"
      ],
      "metadata": {
        "id": "_W--6TEbG8Nz"
      }
    },
    {
      "cell_type": "markdown",
      "metadata": {
        "id": "TBCwJWhq4yr2"
      },
      "source": [
        "## Check Missing Value"
      ]
    },
    {
      "cell_type": "code",
      "execution_count": null,
      "metadata": {
        "id": "A0iLPXsh3dWZ",
        "outputId": "40cdf2c0-0282-41c5-ec02-4f76b20fee4e",
        "colab": {
          "base_uri": "https://localhost:8080/"
        }
      },
      "outputs": [
        {
          "output_type": "execute_result",
          "data": {
            "text/plain": [
              "Age                         0\n",
              "BusinessTravel              0\n",
              "DailyRate                   0\n",
              "Department                  0\n",
              "DistanceFromHome            0\n",
              "Education                   0\n",
              "EducationField              0\n",
              "EmployeeNumber              0\n",
              "EnvironmentSatisfaction     0\n",
              "Gender                      0\n",
              "HourlyRate                  0\n",
              "JobInvolvement              0\n",
              "JobLevel                    0\n",
              "JobRole                     0\n",
              "JobSatisfaction             0\n",
              "MaritalStatus               0\n",
              "MonthlyIncome               0\n",
              "MonthlyRate                 0\n",
              "NumCompaniesWorked          0\n",
              "Over18                      0\n",
              "OverTime                    0\n",
              "PercentSalaryHike           0\n",
              "PerformanceRating           0\n",
              "RelationshipSatisfaction    0\n",
              "StockOptionLevel            0\n",
              "TotalWorkingYears           0\n",
              "TrainingTimesLastYear       0\n",
              "WorkLifeBalance             0\n",
              "YearsInCurrentRole          0\n",
              "YearsSinceLastPromotion     0\n",
              "YearsWithCurrManager        0\n",
              "Attrition                   0\n",
              "dtype: int64"
            ]
          },
          "metadata": {},
          "execution_count": 8
        }
      ],
      "source": [
        "hr.isna().sum() #missing value check"
      ]
    },
    {
      "cell_type": "markdown",
      "metadata": {
        "id": "hxxaACvN4wtC"
      },
      "source": [
        "## Check Duplicate"
      ]
    },
    {
      "cell_type": "code",
      "execution_count": null,
      "metadata": {
        "id": "TvsC0me83oUm",
        "outputId": "db9024ca-9dd5-4c1b-b415-5cbefd564dec",
        "colab": {
          "base_uri": "https://localhost:8080/",
          "height": 99
        }
      },
      "outputs": [
        {
          "output_type": "execute_result",
          "data": {
            "text/plain": [
              "Empty DataFrame\n",
              "Columns: [Age, BusinessTravel, DailyRate, Department, DistanceFromHome, Education, EducationField, EmployeeNumber, EnvironmentSatisfaction, Gender, HourlyRate, JobInvolvement, JobLevel, JobRole, JobSatisfaction, MaritalStatus, MonthlyIncome, MonthlyRate, NumCompaniesWorked, Over18, OverTime, PercentSalaryHike, PerformanceRating, RelationshipSatisfaction, StockOptionLevel, TotalWorkingYears, TrainingTimesLastYear, WorkLifeBalance, YearsInCurrentRole, YearsSinceLastPromotion, YearsWithCurrManager, Attrition]\n",
              "Index: []\n",
              "\n",
              "[0 rows x 32 columns]"
            ],
            "text/html": [
              "\n",
              "  <div id=\"df-fcff6e54-ff32-4656-bfef-757dbe087100\" class=\"colab-df-container\">\n",
              "    <div>\n",
              "<style scoped>\n",
              "    .dataframe tbody tr th:only-of-type {\n",
              "        vertical-align: middle;\n",
              "    }\n",
              "\n",
              "    .dataframe tbody tr th {\n",
              "        vertical-align: top;\n",
              "    }\n",
              "\n",
              "    .dataframe thead th {\n",
              "        text-align: right;\n",
              "    }\n",
              "</style>\n",
              "<table border=\"1\" class=\"dataframe\">\n",
              "  <thead>\n",
              "    <tr style=\"text-align: right;\">\n",
              "      <th></th>\n",
              "      <th>Age</th>\n",
              "      <th>BusinessTravel</th>\n",
              "      <th>DailyRate</th>\n",
              "      <th>Department</th>\n",
              "      <th>DistanceFromHome</th>\n",
              "      <th>Education</th>\n",
              "      <th>EducationField</th>\n",
              "      <th>EmployeeNumber</th>\n",
              "      <th>EnvironmentSatisfaction</th>\n",
              "      <th>Gender</th>\n",
              "      <th>...</th>\n",
              "      <th>PerformanceRating</th>\n",
              "      <th>RelationshipSatisfaction</th>\n",
              "      <th>StockOptionLevel</th>\n",
              "      <th>TotalWorkingYears</th>\n",
              "      <th>TrainingTimesLastYear</th>\n",
              "      <th>WorkLifeBalance</th>\n",
              "      <th>YearsInCurrentRole</th>\n",
              "      <th>YearsSinceLastPromotion</th>\n",
              "      <th>YearsWithCurrManager</th>\n",
              "      <th>Attrition</th>\n",
              "    </tr>\n",
              "  </thead>\n",
              "  <tbody>\n",
              "  </tbody>\n",
              "</table>\n",
              "<p>0 rows × 32 columns</p>\n",
              "</div>\n",
              "    <div class=\"colab-df-buttons\">\n",
              "\n",
              "  <div class=\"colab-df-container\">\n",
              "    <button class=\"colab-df-convert\" onclick=\"convertToInteractive('df-fcff6e54-ff32-4656-bfef-757dbe087100')\"\n",
              "            title=\"Convert this dataframe to an interactive table.\"\n",
              "            style=\"display:none;\">\n",
              "\n",
              "  <svg xmlns=\"http://www.w3.org/2000/svg\" height=\"24px\" viewBox=\"0 -960 960 960\">\n",
              "    <path d=\"M120-120v-720h720v720H120Zm60-500h600v-160H180v160Zm220 220h160v-160H400v160Zm0 220h160v-160H400v160ZM180-400h160v-160H180v160Zm440 0h160v-160H620v160ZM180-180h160v-160H180v160Zm440 0h160v-160H620v160Z\"/>\n",
              "  </svg>\n",
              "    </button>\n",
              "\n",
              "  <style>\n",
              "    .colab-df-container {\n",
              "      display:flex;\n",
              "      gap: 12px;\n",
              "    }\n",
              "\n",
              "    .colab-df-convert {\n",
              "      background-color: #E8F0FE;\n",
              "      border: none;\n",
              "      border-radius: 50%;\n",
              "      cursor: pointer;\n",
              "      display: none;\n",
              "      fill: #1967D2;\n",
              "      height: 32px;\n",
              "      padding: 0 0 0 0;\n",
              "      width: 32px;\n",
              "    }\n",
              "\n",
              "    .colab-df-convert:hover {\n",
              "      background-color: #E2EBFA;\n",
              "      box-shadow: 0px 1px 2px rgba(60, 64, 67, 0.3), 0px 1px 3px 1px rgba(60, 64, 67, 0.15);\n",
              "      fill: #174EA6;\n",
              "    }\n",
              "\n",
              "    .colab-df-buttons div {\n",
              "      margin-bottom: 4px;\n",
              "    }\n",
              "\n",
              "    [theme=dark] .colab-df-convert {\n",
              "      background-color: #3B4455;\n",
              "      fill: #D2E3FC;\n",
              "    }\n",
              "\n",
              "    [theme=dark] .colab-df-convert:hover {\n",
              "      background-color: #434B5C;\n",
              "      box-shadow: 0px 1px 3px 1px rgba(0, 0, 0, 0.15);\n",
              "      filter: drop-shadow(0px 1px 2px rgba(0, 0, 0, 0.3));\n",
              "      fill: #FFFFFF;\n",
              "    }\n",
              "  </style>\n",
              "\n",
              "    <script>\n",
              "      const buttonEl =\n",
              "        document.querySelector('#df-fcff6e54-ff32-4656-bfef-757dbe087100 button.colab-df-convert');\n",
              "      buttonEl.style.display =\n",
              "        google.colab.kernel.accessAllowed ? 'block' : 'none';\n",
              "\n",
              "      async function convertToInteractive(key) {\n",
              "        const element = document.querySelector('#df-fcff6e54-ff32-4656-bfef-757dbe087100');\n",
              "        const dataTable =\n",
              "          await google.colab.kernel.invokeFunction('convertToInteractive',\n",
              "                                                    [key], {});\n",
              "        if (!dataTable) return;\n",
              "\n",
              "        const docLinkHtml = 'Like what you see? Visit the ' +\n",
              "          '<a target=\"_blank\" href=https://colab.research.google.com/notebooks/data_table.ipynb>data table notebook</a>'\n",
              "          + ' to learn more about interactive tables.';\n",
              "        element.innerHTML = '';\n",
              "        dataTable['output_type'] = 'display_data';\n",
              "        await google.colab.output.renderOutput(dataTable, element);\n",
              "        const docLink = document.createElement('div');\n",
              "        docLink.innerHTML = docLinkHtml;\n",
              "        element.appendChild(docLink);\n",
              "      }\n",
              "    </script>\n",
              "  </div>\n",
              "\n",
              "    </div>\n",
              "  </div>\n"
            ],
            "application/vnd.google.colaboratory.intrinsic+json": {
              "type": "dataframe"
            }
          },
          "metadata": {},
          "execution_count": 9
        }
      ],
      "source": [
        "hr[hr['EmployeeNumber'].duplicated()]"
      ]
    },
    {
      "cell_type": "markdown",
      "metadata": {
        "id": "5pQM4Gg34toX"
      },
      "source": [
        "## Check Typo For Categorical Data"
      ]
    },
    {
      "cell_type": "code",
      "execution_count": null,
      "metadata": {
        "id": "DZRBjwFb37mO",
        "outputId": "fa2c2fe9-e01d-47a9-c489-e6ce2285a4bb",
        "colab": {
          "base_uri": "https://localhost:8080/"
        }
      },
      "outputs": [
        {
          "output_type": "execute_result",
          "data": {
            "text/plain": [
              "Research & Development    961\n",
              "Sales                     446\n",
              "Human Resources            63\n",
              "Name: Department, dtype: int64"
            ]
          },
          "metadata": {},
          "execution_count": 10
        }
      ],
      "source": [
        "\n",
        "hr['Department'].value_counts()"
      ]
    },
    {
      "cell_type": "code",
      "execution_count": null,
      "metadata": {
        "id": "hY9aAwuv4SWX",
        "outputId": "a8f84adc-5e93-4784-82a1-ed0765ea76ed",
        "colab": {
          "base_uri": "https://localhost:8080/"
        }
      },
      "outputs": [
        {
          "output_type": "execute_result",
          "data": {
            "text/plain": [
              "Life Sciences       606\n",
              "Medical             464\n",
              "Marketing           159\n",
              "Technical Degree    132\n",
              "Other                82\n",
              "Human Resources      27\n",
              "Name: EducationField, dtype: int64"
            ]
          },
          "metadata": {},
          "execution_count": 11
        }
      ],
      "source": [
        "\n",
        "hr['EducationField'].value_counts()"
      ]
    },
    {
      "cell_type": "code",
      "execution_count": null,
      "metadata": {
        "id": "C9HDaex14WGQ",
        "outputId": "8830cdb5-db05-4bb1-9585-d63551426712",
        "colab": {
          "base_uri": "https://localhost:8080/"
        }
      },
      "outputs": [
        {
          "output_type": "execute_result",
          "data": {
            "text/plain": [
              "1    882\n",
              "0    588\n",
              "Name: Gender, dtype: int64"
            ]
          },
          "metadata": {},
          "execution_count": 12
        }
      ],
      "source": [
        "\n",
        "hr['Gender'].value_counts()"
      ]
    },
    {
      "cell_type": "code",
      "execution_count": null,
      "metadata": {
        "id": "dtcpg4Yz43JM",
        "outputId": "5a418cdd-9fb1-40ba-a20c-fd6782abfa16",
        "colab": {
          "base_uri": "https://localhost:8080/"
        }
      },
      "outputs": [
        {
          "output_type": "stream",
          "name": "stdout",
          "text": [
            "i= 0 el Age\n",
            "i= 1 el DistanceFromHome\n",
            "i= 2 el EnvironmentSatisfaction\n",
            "i= 3 el MonthlyIncome\n",
            "i= 4 el DailyRate\n",
            "i= 5 el WorkLifeBalance\n",
            "i= 6 el MonthlyRate\n",
            "i= 7 el YearsWithCurrManager\n"
          ]
        },
        {
          "output_type": "display_data",
          "data": {
            "text/plain": [
              "<Figure size 2000x1000 with 8 Axes>"
            ],
            "image/png": "[encoded data removed]"
          },
          "metadata": {}
        }
      ],
      "source": [
        "numerical_column = ['Age','DistanceFromHome','EnvironmentSatisfaction','MonthlyIncome','DailyRate','WorkLifeBalance','MonthlyRate','YearsWithCurrManager']\n",
        "\n",
        "fig, axes = plt.subplots(nrows=2, ncols=4,figsize=(20,10))\n",
        "for i,el in enumerate(numerical_column):\n",
        "    print('i=',i,'el',el)\n",
        "    a = hr.boxplot(el, ax=axes.flatten()[i],grid=False)\n",
        "plt.show()"
      ]
    },
    {
      "cell_type": "markdown",
      "metadata": {
        "id": "7Yqpossd5r24"
      },
      "source": [
        "Overall the data is well distribute as for MonthlyIncome even though its outlier but the datapoint is **well distribute**, so we are not going to delete/archive the outliers. but for Monthly Income we can considered using Median"
      ]
    },
    {
      "cell_type": "markdown",
      "metadata": {
        "id": "a4_UiNGN6P8h"
      },
      "source": [
        "# 📊 Exploratory Data Analysis"
      ]
    },
    {
      "cell_type": "markdown",
      "metadata": {
        "id": "Ct2p4nV4ft32"
      },
      "source": [
        "## 📉 Categorical Features"
      ]
    },
    {
      "cell_type": "code",
      "source": [
        "object_col = []\n",
        "for column in hr.columns:\n",
        "    if hr[column].dtype == object and len(hr[column].unique()) <= 30:\n",
        "        object_col.append(column)\n",
        "        print(f\"{column} : {hr[column].unique()}\")\n",
        "        print(hr[column].value_counts())\n",
        "        print(\"====================================\")"
      ],
      "metadata": {
        "id": "GgwfvXC_2BqQ",
        "outputId": "7dd5cf96-a6d8-4790-b866-c42367556984",
        "colab": {
          "base_uri": "https://localhost:8080/"
        }
      },
      "execution_count": null,
      "outputs": [
        {
          "output_type": "stream",
          "name": "stdout",
          "text": [
            "Department : ['Sales' 'Research & Development' 'Human Resources']\n",
            "Research & Development    961\n",
            "Sales                     446\n",
            "Human Resources            63\n",
            "Name: Department, dtype: int64\n",
            "====================================\n",
            "EducationField : ['Life Sciences' 'Other' 'Medical' 'Marketing' 'Technical Degree'\n",
            " 'Human Resources']\n",
            "Life Sciences       606\n",
            "Medical             464\n",
            "Marketing           159\n",
            "Technical Degree    132\n",
            "Other                82\n",
            "Human Resources      27\n",
            "Name: EducationField, dtype: int64\n",
            "====================================\n",
            "JobRole : ['Sales Executive' 'Research Scientist' 'Laboratory Technician'\n",
            " 'Manufacturing Director' 'Healthcare Representative' 'Manager'\n",
            " 'Sales Representative' 'Research Director' 'Human Resources']\n",
            "Sales Executive              326\n",
            "Research Scientist           292\n",
            "Laboratory Technician        259\n",
            "Manufacturing Director       145\n",
            "Healthcare Representative    131\n",
            "Manager                      102\n",
            "Sales Representative          83\n",
            "Research Director             80\n",
            "Human Resources               52\n",
            "Name: JobRole, dtype: int64\n",
            "====================================\n",
            "MaritalStatus : ['Single' 'Married' 'Divorced']\n",
            "Married     673\n",
            "Single      470\n",
            "Divorced    327\n",
            "Name: MaritalStatus, dtype: int64\n",
            "====================================\n",
            "Over18 : ['Y']\n",
            "Y    1470\n",
            "Name: Over18, dtype: int64\n",
            "====================================\n",
            "OverTime : ['Yes' 'No']\n",
            "No     1054\n",
            "Yes     416\n",
            "Name: OverTime, dtype: int64\n",
            "====================================\n"
          ]
        }
      ]
    },
    {
      "cell_type": "code",
      "source": [
        "len(object_col)"
      ],
      "metadata": {
        "id": "efLNWTtl2JP1",
        "outputId": "72587b1f-0e2c-428b-9cdc-3616cac49b2e",
        "colab": {
          "base_uri": "https://localhost:8080/"
        }
      },
      "execution_count": null,
      "outputs": [
        {
          "output_type": "execute_result",
          "data": {
            "text/plain": [
              "6"
            ]
          },
          "metadata": {},
          "execution_count": 15
        }
      ]
    },
    {
      "cell_type": "markdown",
      "source": [
        "\n",
        "## 📉 Numerical Features"
      ],
      "metadata": {
        "id": "5MmDgc2v2N2o"
      }
    },
    {
      "cell_type": "code",
      "source": [
        "disc_col = []\n",
        "for column in hr.columns:\n",
        "    if hr[column].dtypes != object and hr[column].nunique() < 30:\n",
        "        print(f\"{column} : {hr[column].unique()}\")\n",
        "        disc_col.append(column)\n",
        "        print(\"====================================\")"
      ],
      "metadata": {
        "id": "0z0CpvZ92PDp",
        "outputId": "8432dcdf-4a5a-466c-c35a-8d2205e9d9c6",
        "colab": {
          "base_uri": "https://localhost:8080/"
        }
      },
      "execution_count": null,
      "outputs": [
        {
          "output_type": "stream",
          "name": "stdout",
          "text": [
            "BusinessTravel : [1 2 0]\n",
            "====================================\n",
            "DistanceFromHome : [ 1  8  2  3 24 23 27 16 15 26 19 21  5 11  9  7  6 10  4 25 12 18 29 22\n",
            " 14 20 28 17 13]\n",
            "====================================\n",
            "Education : [2 1 4 3 5]\n",
            "====================================\n",
            "EnvironmentSatisfaction : [2 3 4 1]\n",
            "====================================\n",
            "Gender : [0 1]\n",
            "====================================\n",
            "JobInvolvement : [3 2 4 1]\n",
            "====================================\n",
            "JobLevel : [2 1 3 4 5]\n",
            "====================================\n",
            "JobSatisfaction : [4 2 3 1]\n",
            "====================================\n",
            "NumCompaniesWorked : [8 1 6 9 0 4 5 2 7 3]\n",
            "====================================\n",
            "PercentSalaryHike : [11 23 15 12 13 20 22 21 17 14 16 18 19 24 25]\n",
            "====================================\n",
            "PerformanceRating : [3 4]\n",
            "====================================\n",
            "RelationshipSatisfaction : [1 4 2 3]\n",
            "====================================\n",
            "StockOptionLevel : [0 1 3 2]\n",
            "====================================\n",
            "TrainingTimesLastYear : [0 3 2 5 1 4 6]\n",
            "====================================\n",
            "WorkLifeBalance : [1 3 2 4]\n",
            "====================================\n",
            "YearsInCurrentRole : [ 4  7  0  2  5  9  8  3  6 13  1 15 14 16 11 10 12 18 17]\n",
            "====================================\n",
            "YearsSinceLastPromotion : [ 0  1  3  2  7  4  8  6  5 15  9 13 12 10 11 14]\n",
            "====================================\n",
            "YearsWithCurrManager : [ 5  7  0  2  6  8  3 11 17  1  4 12  9 10 15 13 16 14]\n",
            "====================================\n",
            "Attrition : [0 1]\n",
            "====================================\n"
          ]
        }
      ]
    },
    {
      "cell_type": "code",
      "source": [
        "cont_col = []\n",
        "for column in hr.columns:\n",
        "    if hr[column].dtypes != object and hr[column].nunique() > 30:\n",
        "        print(f\"{column} : Minimum: {hr[column].min()}, Maximum: {hr[column].max()}\")\n",
        "        cont_col.append(column)\n",
        "        print(\"====================================\")"
      ],
      "metadata": {
        "id": "90MJxGpr2TTU",
        "outputId": "49249d56-f6f3-4b19-c597-f5d91b5fafcf",
        "colab": {
          "base_uri": "https://localhost:8080/"
        }
      },
      "execution_count": null,
      "outputs": [
        {
          "output_type": "stream",
          "name": "stdout",
          "text": [
            "Age : Minimum: 18, Maximum: 60\n",
            "====================================\n",
            "DailyRate : Minimum: 102, Maximum: 1499\n",
            "====================================\n",
            "EmployeeNumber : Minimum: 1, Maximum: 2068\n",
            "====================================\n",
            "HourlyRate : Minimum: 30, Maximum: 100\n",
            "====================================\n",
            "MonthlyIncome : Minimum: 1009, Maximum: 19999\n",
            "====================================\n",
            "MonthlyRate : Minimum: 2094, Maximum: 26999\n",
            "====================================\n",
            "TotalWorkingYears : Minimum: 0, Maximum: 40\n",
            "====================================\n"
          ]
        }
      ]
    },
    {
      "cell_type": "code",
      "execution_count": null,
      "metadata": {
        "id": "-7CgWKI97p5K",
        "outputId": "d9602534-9091-4ad1-cb70-13a74dbb61d8",
        "colab": {
          "base_uri": "https://localhost:8080/"
        }
      },
      "outputs": [
        {
          "output_type": "display_data",
          "data": {
            "text/plain": [
              "<Figure size 800x550 with 1 Axes>"
            ],
            "image/png": "[encoded data removed]"
          },
          "metadata": {}
        }
      ],
      "source": [
        "# Calculate the count of occurrences for each user gender\n",
        "gender_counts = hr['Gender'].value_counts()\n",
        "\n",
        "# Create the pie chart\n",
        "plt.pie(gender_counts, labels=gender_counts.index, autopct='%1.0f%%')\n",
        "\n",
        "# Add a title and adjust the aspect ratio\n",
        "plt.title('Distribution of User Gender')\n",
        "plt.axis('equal')\n",
        "\n",
        "# Display the chart\n",
        "plt.show()"
      ]
    },
    {
      "cell_type": "code",
      "execution_count": null,
      "metadata": {
        "id": "UJG-3WSl9N_w",
        "outputId": "22276a71-d373-4015-f08a-f2d7b25c35b8",
        "colab": {
          "base_uri": "https://localhost:8080/",
          "height": 480
        }
      },
      "outputs": [
        {
          "output_type": "display_data",
          "data": {
            "text/plain": [
              "<Figure size 800x550 with 1 Axes>"
            ],
            "image/png": "[encoded data removed]"
          },
          "metadata": {}
        }
      ],
      "source": [
        "# Calculate the count of occurrences for each user gender\n",
        "gender_counts = hr['Attrition'].value_counts()\n",
        "\n",
        "# Create the pie chart\n",
        "plt.pie(gender_counts, labels=gender_counts.index, autopct='%1.0f%%')\n",
        "\n",
        "# Add a title and adjust the aspect ratio\n",
        "plt.title('Distribution of User Gender')\n",
        "plt.axis('equal')\n",
        "\n",
        "# Display the chart\n",
        "plt.show()"
      ]
    },
    {
      "cell_type": "markdown",
      "metadata": {
        "id": "VbFf3YklH5g8"
      },
      "source": [
        "![Screenshot 2023-07-01 180344.png](data:image/png;base64,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)"
      ]
    },
    {
      "cell_type": "markdown",
      "metadata": {
        "id": "6na5bMAyKr9z"
      },
      "source": [
        "## Figuring out The Reason Why Our Employee Leaves"
      ]
    },
    {
      "cell_type": "markdown",
      "metadata": {
        "id": "tIJ4yiZ6KhFX"
      },
      "source": [
        "___\n",
        "###* _Low WorkLife Balance_\n",
        "___"
      ]
    },
    {
      "cell_type": "markdown",
      "metadata": {
        "id": "YP75au8JLb4I"
      },
      "source": [
        " 10.55% Our Former Employee Surveyed on Bad Work Life Balance 😞\n",
        "\n",
        "\n"
      ]
    },
    {
      "cell_type": "markdown",
      "metadata": {
        "id": "vZJf2w82K0Cq"
      },
      "source": [
        "![Screenshot 2023-07-01 181854.png](data:image/png;base64,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)"
      ]
    },
    {
      "cell_type": "markdown",
      "metadata": {
        "id": "DUxb-1uiM77s"
      },
      "source": [
        "___\n",
        "###* _Low Job Statisfaction_\n",
        "___"
      ]
    },
    {
      "cell_type": "markdown",
      "metadata": {
        "id": "x5wofCoONpAp"
      },
      "source": [
        "`27.85%` of our former employee indicate that they have Low Job Statisfaction"
      ]
    },
    {
      "cell_type": "markdown",
      "metadata": {
        "id": "GPk2yHO1M25_"
      },
      "source": [
        "![Screenshot 2023-07-01 182523.png](data:image/png;base64,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)"
      ]
    },
    {
      "cell_type": "markdown",
      "metadata": {
        "id": "F0H0oD_iN4bm"
      },
      "source": [
        "___\n",
        "### * _Bad Environment_\n",
        "___"
      ]
    },
    {
      "cell_type": "markdown",
      "metadata": {
        "id": "k5ZKsUQ5PuZ4"
      },
      "source": [
        "`30.38%` of our former employee indicate that they have experience Bad Environment"
      ]
    },
    {
      "cell_type": "markdown",
      "metadata": {
        "id": "NmZUAfvtPpwq"
      },
      "source": [
        "![Screenshot 2023-07-01 183730.png](data:image/png;base64,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)"
      ]
    },
    {
      "cell_type": "markdown",
      "metadata": {
        "id": "rjeIBUFNP9s_"
      },
      "source": [
        "___\n",
        "###* _Low Income_\n",
        "___"
      ]
    },
    {
      "cell_type": "code",
      "execution_count": null,
      "metadata": {
        "id": "CUPig91PQKeM",
        "outputId": "a70f510e-1ceb-490f-93ca-3e904b6d8608",
        "colab": {
          "base_uri": "https://localhost:8080/"
        }
      },
      "outputs": [
        {
          "output_type": "execute_result",
          "data": {
            "text/plain": [
              "count    1,470.00\n",
              "mean     6,502.93\n",
              "std      4,707.96\n",
              "min      1,009.00\n",
              "25%      2,911.00\n",
              "50%      4,919.00\n",
              "75%      8,379.00\n",
              "max     19,999.00\n",
              "Name: MonthlyIncome, dtype: float64"
            ]
          },
          "metadata": {},
          "execution_count": 20
        }
      ],
      "source": [
        "hr['MonthlyIncome'].describe()"
      ]
    },
    {
      "cell_type": "code",
      "execution_count": null,
      "metadata": {
        "id": "Yz-1NZaXS6Y8",
        "outputId": "c0ae7b6c-fa07-4aca-c8b7-5f11667321ad",
        "colab": {
          "base_uri": "https://localhost:8080/"
        }
      },
      "outputs": [
        {
          "output_type": "stream",
          "name": "stdout",
          "text": [
            "Skewness: 1.3684185123330814\n"
          ]
        }
      ],
      "source": [
        "from scipy.stats import skew\n",
        "\n",
        "# Assuming your DataFrame is named hr\n",
        "\n",
        "# Calculate skewness\n",
        "skewness = skew(hr['MonthlyIncome'])\n",
        "\n",
        "# Print the result\n",
        "print(\"Skewness:\", skewness)"
      ]
    },
    {
      "cell_type": "markdown",
      "metadata": {
        "id": "c3cP_ppCUfP1"
      },
      "source": [
        "![Screenshot 2023-07-01 185822.png](data:image/png;base64,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)"
      ]
    },
    {
      "cell_type": "markdown",
      "metadata": {
        "id": "B_pwljJXRfOU"
      },
      "source": [
        "Number of Former Employee whose MonthlyIncome Below\n",
        "1.   Q1 = 108(45.57%)\n",
        "2.   Average = 185(78.06%)\n",
        "\n",
        "This indicate 45.57% former employee got the MonthlyIncome Below Q1 but when we look for skewness the result is more than 1% This indicates that there are relatively fewer individuals with high monthly incomes compared to the number of individuals with lower incomes.\n"
      ]
    },
    {
      "cell_type": "markdown",
      "metadata": {
        "id": "5x6sXOCSYP0n"
      },
      "source": [
        "___\n",
        "* _They have been in the same role for years_\n",
        "___"
      ]
    },
    {
      "cell_type": "markdown",
      "metadata": {
        "id": "FLdyxO1SYH-i"
      },
      "source": [
        "![Screenshot 2023-07-01 191421.png](data:image/png;base64,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)"
      ]
    },
    {
      "cell_type": "markdown",
      "metadata": {
        "id": "1dLGDOcyYKPi"
      },
      "source": [
        "Many of our former employees tended to leave the company within their first, second, or seventh year in the same role. This pattern suggests that these employees may not have been well-suited for the role despite having a moderate level of experience. Additionally, it is noteworthy that they had been with the company for a considerable amount of time before deciding to leave."
      ]
    },
    {
      "cell_type": "markdown",
      "metadata": {
        "id": "CMvlDQAoZEM5"
      },
      "source": [
        "___\n",
        "###* _Overtime_\n",
        "___"
      ]
    },
    {
      "cell_type": "markdown",
      "metadata": {
        "id": "HfhYjwmmb0Ul"
      },
      "source": [
        "![Screenshot 2023-07-01 193042.png](data:image/png;base64,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)"
      ]
    },
    {
      "cell_type": "markdown",
      "metadata": {
        "id": "3-EqpOVBdAzz"
      },
      "source": [
        "8.64% of our Former Employee leaves and survey they have work overtime"
      ]
    },
    {
      "cell_type": "markdown",
      "metadata": {
        "id": "ygzPLXZUb9DB"
      },
      "source": [
        "___\n",
        "###* _Stock Option_\n",
        "___"
      ]
    },
    {
      "cell_type": "markdown",
      "metadata": {
        "id": "8AbgGJQ7cAPS"
      },
      "source": [
        "![Screenshot 2023-07-01 193541.png](data:image/png;base64,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)"
      ]
    },
    {
      "cell_type": "markdown",
      "metadata": {
        "id": "4Y6PjppAdWf0"
      },
      "source": [
        "Only 14% of our former employees received stock at level 0 and level 1, while a significantly smaller number of individuals were granted stock at level 2 and level 3."
      ]
    },
    {
      "cell_type": "markdown",
      "source": [
        "___\n",
        "###* _Stock Option_\n",
        "___"
      ],
      "metadata": {
        "id": "4ur7pXkCG3c0"
      }
    },
    {
      "cell_type": "markdown",
      "metadata": {
        "id": "eRb6JxfFing_"
      },
      "source": [
        "---\n",
        "# 📉 Correlation Analysis"
      ]
    },
    {
      "cell_type": "markdown",
      "source": [
        "## Data Preparation"
      ],
      "metadata": {
        "id": "gYlsKl7sJF88"
      }
    },
    {
      "cell_type": "code",
      "source": [
        "numerical_column = []\n",
        "for i in hr.columns:\n",
        "  if hr[i].dtypes == 'int64' or hr[i].dtypes == 'float64':\n",
        "    numerical_column.append(i)\n",
        "\n",
        "binary_categorical_column = ['Gender']\n",
        "polytomous_categorical_column = ['BusinessTravel','Department','EducationField','JobRole','MaritalStatus']\n",
        "all_categorical_column = binary_categorical_column+polytomous_categorical_column"
      ],
      "metadata": {
        "id": "lbSozBbuJk_1"
      },
      "execution_count": null,
      "outputs": []
    },
    {
      "cell_type": "code",
      "source": [
        "hr2 = hr.copy()\n",
        "for i in binary_categorical_column:\n",
        "  hr2[i] = hr2[i].astype('category')\n",
        "  hr2[i] = hr2[i].cat.codes"
      ],
      "metadata": {
        "id": "VlMawUoVIlSn"
      },
      "execution_count": null,
      "outputs": []
    },
    {
      "cell_type": "code",
      "source": [
        "hr2.head()"
      ],
      "metadata": {
        "id": "SAcadlK9PyFU",
        "outputId": "1701235b-cea2-4468-b1fc-49bef90486bd",
        "colab": {
          "base_uri": "https://localhost:8080/",
          "height": 325
        }
      },
      "execution_count": null,
      "outputs": [
        {
          "output_type": "execute_result",
          "data": {
            "text/plain": [
              "   Age  BusinessTravel  DailyRate              Department  DistanceFromHome  \\\n",
              "0   41               1       1102                   Sales                 1   \n",
              "1   49               2        279  Research & Development                 8   \n",
              "2   37               1       1373  Research & Development                 2   \n",
              "3   33               2       1392  Research & Development                 3   \n",
              "4   27               1        591  Research & Development                 2   \n",
              "\n",
              "   Education EducationField  EmployeeNumber  EnvironmentSatisfaction  Gender  \\\n",
              "0          2  Life Sciences               1                        2       0   \n",
              "1          1  Life Sciences               2                        3       1   \n",
              "2          2          Other               4                        4       1   \n",
              "3          4  Life Sciences               5                        4       0   \n",
              "4          1        Medical               7                        1       1   \n",
              "\n",
              "   ...  PerformanceRating  RelationshipSatisfaction  StockOptionLevel  \\\n",
              "0  ...                  3                         1                 0   \n",
              "1  ...                  4                         4                 1   \n",
              "2  ...                  3                         2                 0   \n",
              "3  ...                  3                         3                 0   \n",
              "4  ...                  3                         4                 1   \n",
              "\n",
              "  TotalWorkingYears  TrainingTimesLastYear WorkLifeBalance  \\\n",
              "0                 8                      0               1   \n",
              "1                10                      3               3   \n",
              "2                 7                      3               3   \n",
              "3                 8                      3               3   \n",
              "4                 6                      3               3   \n",
              "\n",
              "   YearsInCurrentRole  YearsSinceLastPromotion  YearsWithCurrManager Attrition  \n",
              "0                   4                        0                     5         0  \n",
              "1                   7                        1                     7         1  \n",
              "2                   0                        0                     0         0  \n",
              "3                   7                        3                     0         1  \n",
              "4                   2                        2                     2         1  \n",
              "\n",
              "[5 rows x 32 columns]"
            ],
            "text/html": [
              "\n",
              "  <div id=\"df-85816c63-a2f2-4a19-9859-97299b5de12e\" class=\"colab-df-container\">\n",
              "    <div>\n",
              "<style scoped>\n",
              "    .dataframe tbody tr th:only-of-type {\n",
              "        vertical-align: middle;\n",
              "    }\n",
              "\n",
              "    .dataframe tbody tr th {\n",
              "        vertical-align: top;\n",
              "    }\n",
              "\n",
              "    .dataframe thead th {\n",
              "        text-align: right;\n",
              "    }\n",
              "</style>\n",
              "<table border=\"1\" class=\"dataframe\">\n",
              "  <thead>\n",
              "    <tr style=\"text-align: right;\">\n",
              "      <th></th>\n",
              "      <th>Age</th>\n",
              "      <th>BusinessTravel</th>\n",
              "      <th>DailyRate</th>\n",
              "      <th>Department</th>\n",
              "      <th>DistanceFromHome</th>\n",
              "      <th>Education</th>\n",
              "      <th>EducationField</th>\n",
              "      <th>EmployeeNumber</th>\n",
              "      <th>EnvironmentSatisfaction</th>\n",
              "      <th>Gender</th>\n",
              "      <th>...</th>\n",
              "      <th>PerformanceRating</th>\n",
              "      <th>RelationshipSatisfaction</th>\n",
              "      <th>StockOptionLevel</th>\n",
              "      <th>TotalWorkingYears</th>\n",
              "      <th>TrainingTimesLastYear</th>\n",
              "      <th>WorkLifeBalance</th>\n",
              "      <th>YearsInCurrentRole</th>\n",
              "      <th>YearsSinceLastPromotion</th>\n",
              "      <th>YearsWithCurrManager</th>\n",
              "      <th>Attrition</th>\n",
              "    </tr>\n",
              "  </thead>\n",
              "  <tbody>\n",
              "    <tr>\n",
              "      <th>0</th>\n",
              "      <td>41</td>\n",
              "      <td>1</td>\n",
              "      <td>1102</td>\n",
              "      <td>Sales</td>\n",
              "      <td>1</td>\n",
              "      <td>2</td>\n",
              "      <td>Life Sciences</td>\n",
              "      <td>1</td>\n",
              "      <td>2</td>\n",
              "      <td>0</td>\n",
              "      <td>...</td>\n",
              "      <td>3</td>\n",
              "      <td>1</td>\n",
              "      <td>0</td>\n",
              "      <td>8</td>\n",
              "      <td>0</td>\n",
              "      <td>1</td>\n",
              "      <td>4</td>\n",
              "      <td>0</td>\n",
              "      <td>5</td>\n",
              "      <td>0</td>\n",
              "    </tr>\n",
              "    <tr>\n",
              "      <th>1</th>\n",
              "      <td>49</td>\n",
              "      <td>2</td>\n",
              "      <td>279</td>\n",
              "      <td>Research &amp; Development</td>\n",
              "      <td>8</td>\n",
              "      <td>1</td>\n",
              "      <td>Life Sciences</td>\n",
              "      <td>2</td>\n",
              "      <td>3</td>\n",
              "      <td>1</td>\n",
              "      <td>...</td>\n",
              "      <td>4</td>\n",
              "      <td>4</td>\n",
              "      <td>1</td>\n",
              "      <td>10</td>\n",
              "      <td>3</td>\n",
              "      <td>3</td>\n",
              "      <td>7</td>\n",
              "      <td>1</td>\n",
              "      <td>7</td>\n",
              "      <td>1</td>\n",
              "    </tr>\n",
              "    <tr>\n",
              "      <th>2</th>\n",
              "      <td>37</td>\n",
              "      <td>1</td>\n",
              "      <td>1373</td>\n",
              "      <td>Research &amp; Development</td>\n",
              "      <td>2</td>\n",
              "      <td>2</td>\n",
              "      <td>Other</td>\n",
              "      <td>4</td>\n",
              "      <td>4</td>\n",
              "      <td>1</td>\n",
              "      <td>...</td>\n",
              "      <td>3</td>\n",
              "      <td>2</td>\n",
              "      <td>0</td>\n",
              "      <td>7</td>\n",
              "      <td>3</td>\n",
              "      <td>3</td>\n",
              "      <td>0</td>\n",
              "      <td>0</td>\n",
              "      <td>0</td>\n",
              "      <td>0</td>\n",
              "    </tr>\n",
              "    <tr>\n",
              "      <th>3</th>\n",
              "      <td>33</td>\n",
              "      <td>2</td>\n",
              "      <td>1392</td>\n",
              "      <td>Research &amp; Development</td>\n",
              "      <td>3</td>\n",
              "      <td>4</td>\n",
              "      <td>Life Sciences</td>\n",
              "      <td>5</td>\n",
              "      <td>4</td>\n",
              "      <td>0</td>\n",
              "      <td>...</td>\n",
              "      <td>3</td>\n",
              "      <td>3</td>\n",
              "      <td>0</td>\n",
              "      <td>8</td>\n",
              "      <td>3</td>\n",
              "      <td>3</td>\n",
              "      <td>7</td>\n",
              "      <td>3</td>\n",
              "      <td>0</td>\n",
              "      <td>1</td>\n",
              "    </tr>\n",
              "    <tr>\n",
              "      <th>4</th>\n",
              "      <td>27</td>\n",
              "      <td>1</td>\n",
              "      <td>591</td>\n",
              "      <td>Research &amp; Development</td>\n",
              "      <td>2</td>\n",
              "      <td>1</td>\n",
              "      <td>Medical</td>\n",
              "      <td>7</td>\n",
              "      <td>1</td>\n",
              "      <td>1</td>\n",
              "      <td>...</td>\n",
              "      <td>3</td>\n",
              "      <td>4</td>\n",
              "      <td>1</td>\n",
              "      <td>6</td>\n",
              "      <td>3</td>\n",
              "      <td>3</td>\n",
              "      <td>2</td>\n",
              "      <td>2</td>\n",
              "      <td>2</td>\n",
              "      <td>1</td>\n",
              "    </tr>\n",
              "  </tbody>\n",
              "</table>\n",
              "<p>5 rows × 32 columns</p>\n",
              "</div>\n",
              "    <div class=\"colab-df-buttons\">\n",
              "\n",
              "  <div class=\"colab-df-container\">\n",
              "    <button class=\"colab-df-convert\" onclick=\"convertToInteractive('df-85816c63-a2f2-4a19-9859-97299b5de12e')\"\n",
              "            title=\"Convert this dataframe to an interactive table.\"\n",
              "            style=\"display:none;\">\n",
              "\n",
              "  <svg xmlns=\"http://www.w3.org/2000/svg\" height=\"24px\" viewBox=\"0 -960 960 960\">\n",
              "    <path d=\"M120-120v-720h720v720H120Zm60-500h600v-160H180v160Zm220 220h160v-160H400v160Zm0 220h160v-160H400v160ZM180-400h160v-160H180v160Zm440 0h160v-160H620v160ZM180-180h160v-160H180v160Zm440 0h160v-160H620v160Z\"/>\n",
              "  </svg>\n",
              "    </button>\n",
              "\n",
              "  <style>\n",
              "    .colab-df-container {\n",
              "      display:flex;\n",
              "      gap: 12px;\n",
              "    }\n",
              "\n",
              "    .colab-df-convert {\n",
              "      background-color: #E8F0FE;\n",
              "      border: none;\n",
              "      border-radius: 50%;\n",
              "      cursor: pointer;\n",
              "      display: none;\n",
              "      fill: #1967D2;\n",
              "      height: 32px;\n",
              "      padding: 0 0 0 0;\n",
              "      width: 32px;\n",
              "    }\n",
              "\n",
              "    .colab-df-convert:hover {\n",
              "      background-color: #E2EBFA;\n",
              "      box-shadow: 0px 1px 2px rgba(60, 64, 67, 0.3), 0px 1px 3px 1px rgba(60, 64, 67, 0.15);\n",
              "      fill: #174EA6;\n",
              "    }\n",
              "\n",
              "    .colab-df-buttons div {\n",
              "      margin-bottom: 4px;\n",
              "    }\n",
              "\n",
              "    [theme=dark] .colab-df-convert {\n",
              "      background-color: #3B4455;\n",
              "      fill: #D2E3FC;\n",
              "    }\n",
              "\n",
              "    [theme=dark] .colab-df-convert:hover {\n",
              "      background-color: #434B5C;\n",
              "      box-shadow: 0px 1px 3px 1px rgba(0, 0, 0, 0.15);\n",
              "      filter: drop-shadow(0px 1px 2px rgba(0, 0, 0, 0.3));\n",
              "      fill: #FFFFFF;\n",
              "    }\n",
              "  </style>\n",
              "\n",
              "    <script>\n",
              "      const buttonEl =\n",
              "        document.querySelector('#df-85816c63-a2f2-4a19-9859-97299b5de12e button.colab-df-convert');\n",
              "      buttonEl.style.display =\n",
              "        google.colab.kernel.accessAllowed ? 'block' : 'none';\n",
              "\n",
              "      async function convertToInteractive(key) {\n",
              "        const element = document.querySelector('#df-85816c63-a2f2-4a19-9859-97299b5de12e');\n",
              "        const dataTable =\n",
              "          await google.colab.kernel.invokeFunction('convertToInteractive',\n",
              "                                                    [key], {});\n",
              "        if (!dataTable) return;\n",
              "\n",
              "        const docLinkHtml = 'Like what you see? Visit the ' +\n",
              "          '<a target=\"_blank\" href=https://colab.research.google.com/notebooks/data_table.ipynb>data table notebook</a>'\n",
              "          + ' to learn more about interactive tables.';\n",
              "        element.innerHTML = '';\n",
              "        dataTable['output_type'] = 'display_data';\n",
              "        await google.colab.output.renderOutput(dataTable, element);\n",
              "        const docLink = document.createElement('div');\n",
              "        docLink.innerHTML = docLinkHtml;\n",
              "        element.appendChild(docLink);\n",
              "      }\n",
              "    </script>\n",
              "  </div>\n",
              "\n",
              "\n",
              "<div id=\"df-1958386d-292d-4525-9541-8f9a772f690b\">\n",
              "  <button class=\"colab-df-quickchart\" onclick=\"quickchart('df-1958386d-292d-4525-9541-8f9a772f690b')\"\n",
              "            title=\"Suggest charts\"\n",
              "            style=\"display:none;\">\n",
              "\n",
              "<svg xmlns=\"http://www.w3.org/2000/svg\" height=\"24px\"viewBox=\"0 0 24 24\"\n",
              "     width=\"24px\">\n",
              "    <g>\n",
              "        <path d=\"M19 3H5c-1.1 0-2 .9-2 2v14c0 1.1.9 2 2 2h14c1.1 0 2-.9 2-2V5c0-1.1-.9-2-2-2zM9 17H7v-7h2v7zm4 0h-2V7h2v10zm4 0h-2v-4h2v4z\"/>\n",
              "    </g>\n",
              "</svg>\n",
              "  </button>\n",
              "\n",
              "<style>\n",
              "  .colab-df-quickchart {\n",
              "      --bg-color: #E8F0FE;\n",
              "      --fill-color: #1967D2;\n",
              "      --hover-bg-color: #E2EBFA;\n",
              "      --hover-fill-color: #174EA6;\n",
              "      --disabled-fill-color: #AAA;\n",
              "      --disabled-bg-color: #DDD;\n",
              "  }\n",
              "\n",
              "  [theme=dark] .colab-df-quickchart {\n",
              "      --bg-color: #3B4455;\n",
              "      --fill-color: #D2E3FC;\n",
              "      --hover-bg-color: #434B5C;\n",
              "      --hover-fill-color: #FFFFFF;\n",
              "      --disabled-bg-color: #3B4455;\n",
              "      --disabled-fill-color: #666;\n",
              "  }\n",
              "\n",
              "  .colab-df-quickchart {\n",
              "    background-color: var(--bg-color);\n",
              "    border: none;\n",
              "    border-radius: 50%;\n",
              "    cursor: pointer;\n",
              "    display: none;\n",
              "    fill: var(--fill-color);\n",
              "    height: 32px;\n",
              "    padding: 0;\n",
              "    width: 32px;\n",
              "  }\n",
              "\n",
              "  .colab-df-quickchart:hover {\n",
              "    background-color: var(--hover-bg-color);\n",
              "    box-shadow: 0 1px 2px rgba(60, 64, 67, 0.3), 0 1px 3px 1px rgba(60, 64, 67, 0.15);\n",
              "    fill: var(--button-hover-fill-color);\n",
              "  }\n",
              "\n",
              "  .colab-df-quickchart-complete:disabled,\n",
              "  .colab-df-quickchart-complete:disabled:hover {\n",
              "    background-color: var(--disabled-bg-color);\n",
              "    fill: var(--disabled-fill-color);\n",
              "    box-shadow: none;\n",
              "  }\n",
              "\n",
              "  .colab-df-spinner {\n",
              "    border: 2px solid var(--fill-color);\n",
              "    border-color: transparent;\n",
              "    border-bottom-color: var(--fill-color);\n",
              "    animation:\n",
              "      spin 1s steps(1) infinite;\n",
              "  }\n",
              "\n",
              "  @keyframes spin {\n",
              "    0% {\n",
              "      border-color: transparent;\n",
              "      border-bottom-color: var(--fill-color);\n",
              "      border-left-color: var(--fill-color);\n",
              "    }\n",
              "    20% {\n",
              "      border-color: transparent;\n",
              "      border-left-color: var(--fill-color);\n",
              "      border-top-color: var(--fill-color);\n",
              "    }\n",
              "    30% {\n",
              "      border-color: transparent;\n",
              "      border-left-color: var(--fill-color);\n",
              "      border-top-color: var(--fill-color);\n",
              "      border-right-color: var(--fill-color);\n",
              "    }\n",
              "    40% {\n",
              "      border-color: transparent;\n",
              "      border-right-color: var(--fill-color);\n",
              "      border-top-color: var(--fill-color);\n",
              "    }\n",
              "    60% {\n",
              "      border-color: transparent;\n",
              "      border-right-color: var(--fill-color);\n",
              "    }\n",
              "    80% {\n",
              "      border-color: transparent;\n",
              "      border-right-color: var(--fill-color);\n",
              "      border-bottom-color: var(--fill-color);\n",
              "    }\n",
              "    90% {\n",
              "      border-color: transparent;\n",
              "      border-bottom-color: var(--fill-color);\n",
              "    }\n",
              "  }\n",
              "</style>\n",
              "\n",
              "  <script>\n",
              "    async function quickchart(key) {\n",
              "      const quickchartButtonEl =\n",
              "        document.querySelector('#' + key + ' button');\n",
              "      quickchartButtonEl.disabled = true;  // To prevent multiple clicks.\n",
              "      quickchartButtonEl.classList.add('colab-df-spinner');\n",
              "      try {\n",
              "        const charts = await google.colab.kernel.invokeFunction(\n",
              "            'suggestCharts', [key], {});\n",
              "      } catch (error) {\n",
              "        console.error('Error during call to suggestCharts:', error);\n",
              "      }\n",
              "      quickchartButtonEl.classList.remove('colab-df-spinner');\n",
              "      quickchartButtonEl.classList.add('colab-df-quickchart-complete');\n",
              "    }\n",
              "    (() => {\n",
              "      let quickchartButtonEl =\n",
              "        document.querySelector('#df-1958386d-292d-4525-9541-8f9a772f690b button');\n",
              "      quickchartButtonEl.style.display =\n",
              "        google.colab.kernel.accessAllowed ? 'block' : 'none';\n",
              "    })();\n",
              "  </script>\n",
              "</div>\n",
              "    </div>\n",
              "  </div>\n"
            ],
            "application/vnd.google.colaboratory.intrinsic+json": {
              "type": "dataframe",
              "variable_name": "hr2"
            }
          },
          "metadata": {},
          "execution_count": 24
        }
      ]
    },
    {
      "cell_type": "code",
      "source": [
        "hr2.drop(polytomous_categorical_column, axis=1, inplace=True)"
      ],
      "metadata": {
        "id": "1gpiG9tCME8I"
      },
      "execution_count": null,
      "outputs": []
    },
    {
      "cell_type": "code",
      "execution_count": null,
      "metadata": {
        "id": "jSkWuaNQkEu9",
        "outputId": "b4de25fa-9dd1-4956-c2a7-c827f2827f35",
        "colab": {
          "base_uri": "https://localhost:8080/",
          "height": 356
        }
      },
      "outputs": [
        {
          "output_type": "error",
          "ename": "KeyError",
          "evalue": "\"['EmployeeCount', 'StandardHours'] not found in axis\"",
          "traceback": [
            "\u001b[0;31m---------------------------------------------------------------------------\u001b[0m",
            "\u001b[0;31mKeyError\u001b[0m                                  Traceback (most recent call last)",
            "\u001b[0;32m<ipython-input-26-a15fd74e0630>\u001b[0m in \u001b[0;36m<cell line: 2>\u001b[0;34m()\u001b[0m\n\u001b[1;32m      1\u001b[0m \u001b[0;31m# Remove the \"Employee Count\" and \"Standard Hours\" columns\u001b[0m\u001b[0;34m\u001b[0m\u001b[0;34m\u001b[0m\u001b[0m\n\u001b[0;32m----> 2\u001b[0;31m \u001b[0mhr2\u001b[0m \u001b[0;34m=\u001b[0m \u001b[0mhr2\u001b[0m\u001b[0;34m.\u001b[0m\u001b[0mdrop\u001b[0m\u001b[0;34m(\u001b[0m\u001b[0;34m[\u001b[0m\u001b[0;34m'EmployeeCount'\u001b[0m\u001b[0;34m,\u001b[0m \u001b[0;34m'StandardHours'\u001b[0m\u001b[0;34m]\u001b[0m\u001b[0;34m,\u001b[0m \u001b[0maxis\u001b[0m\u001b[0;34m=\u001b[0m\u001b[0;36m1\u001b[0m\u001b[0;34m)\u001b[0m\u001b[0;34m\u001b[0m\u001b[0;34m\u001b[0m\u001b[0m\n\u001b[0m\u001b[1;32m      3\u001b[0m \u001b[0;34m\u001b[0m\u001b[0m\n\u001b[1;32m      4\u001b[0m \u001b[0;31m# Print the updated DataFrame\u001b[0m\u001b[0;34m\u001b[0m\u001b[0;34m\u001b[0m\u001b[0m\n\u001b[1;32m      5\u001b[0m \u001b[0mprint\u001b[0m\u001b[0;34m(\u001b[0m\u001b[0mhr2\u001b[0m\u001b[0;34m)\u001b[0m\u001b[0;34m\u001b[0m\u001b[0;34m\u001b[0m\u001b[0m\n",
            "\u001b[0;32m/usr/local/lib/python3.10/dist-packages/pandas/util/_decorators.py\u001b[0m in \u001b[0;36mwrapper\u001b[0;34m(*args, **kwargs)\u001b[0m\n\u001b[1;32m    329\u001b[0m                     \u001b[0mstacklevel\u001b[0m\u001b[0;34m=\u001b[0m\u001b[0mfind_stack_level\u001b[0m\u001b[0;34m(\u001b[0m\u001b[0;34m)\u001b[0m\u001b[0;34m,\u001b[0m\u001b[0;34m\u001b[0m\u001b[0;34m\u001b[0m\u001b[0m\n\u001b[1;32m    330\u001b[0m                 )\n\u001b[0;32m--> 331\u001b[0;31m             \u001b[0;32mreturn\u001b[0m \u001b[0mfunc\u001b[0m\u001b[0;34m(\u001b[0m\u001b[0;34m*\u001b[0m\u001b[0margs\u001b[0m\u001b[0;34m,\u001b[0m \u001b[0;34m**\u001b[0m\u001b[0mkwargs\u001b[0m\u001b[0;34m)\u001b[0m\u001b[0;34m\u001b[0m\u001b[0;34m\u001b[0m\u001b[0m\n\u001b[0m\u001b[1;32m    332\u001b[0m \u001b[0;34m\u001b[0m\u001b[0m\n\u001b[1;32m    333\u001b[0m         \u001b[0;31m# error: \"Callable[[VarArg(Any), KwArg(Any)], Any]\" has no\u001b[0m\u001b[0;34m\u001b[0m\u001b[0;34m\u001b[0m\u001b[0m\n",
            "\u001b[0;32m/usr/local/lib/python3.10/dist-packages/pandas/core/frame.py\u001b[0m in \u001b[0;36mdrop\u001b[0;34m(self, labels, axis, index, columns, level, inplace, errors)\u001b[0m\n\u001b[1;32m   5397\u001b[0m                 \u001b[0mweight\u001b[0m  \u001b[0;36m1.0\u001b[0m     \u001b[0;36m0.8\u001b[0m\u001b[0;34m\u001b[0m\u001b[0;34m\u001b[0m\u001b[0m\n\u001b[1;32m   5398\u001b[0m         \"\"\"\n\u001b[0;32m-> 5399\u001b[0;31m         return super().drop(\n\u001b[0m\u001b[1;32m   5400\u001b[0m             \u001b[0mlabels\u001b[0m\u001b[0;34m=\u001b[0m\u001b[0mlabels\u001b[0m\u001b[0;34m,\u001b[0m\u001b[0;34m\u001b[0m\u001b[0;34m\u001b[0m\u001b[0m\n\u001b[1;32m   5401\u001b[0m             \u001b[0maxis\u001b[0m\u001b[0;34m=\u001b[0m\u001b[0maxis\u001b[0m\u001b[0;34m,\u001b[0m\u001b[0;34m\u001b[0m\u001b[0;34m\u001b[0m\u001b[0m\n",
            "\u001b[0;32m/usr/local/lib/python3.10/dist-packages/pandas/util/_decorators.py\u001b[0m in \u001b[0;36mwrapper\u001b[0;34m(*args, **kwargs)\u001b[0m\n\u001b[1;32m    329\u001b[0m                     \u001b[0mstacklevel\u001b[0m\u001b[0;34m=\u001b[0m\u001b[0mfind_stack_level\u001b[0m\u001b[0;34m(\u001b[0m\u001b[0;34m)\u001b[0m\u001b[0;34m,\u001b[0m\u001b[0;34m\u001b[0m\u001b[0;34m\u001b[0m\u001b[0m\n\u001b[1;32m    330\u001b[0m                 )\n\u001b[0;32m--> 331\u001b[0;31m             \u001b[0;32mreturn\u001b[0m \u001b[0mfunc\u001b[0m\u001b[0;34m(\u001b[0m\u001b[0;34m*\u001b[0m\u001b[0margs\u001b[0m\u001b[0;34m,\u001b[0m \u001b[0;34m**\u001b[0m\u001b[0mkwargs\u001b[0m\u001b[0;34m)\u001b[0m\u001b[0;34m\u001b[0m\u001b[0;34m\u001b[0m\u001b[0m\n\u001b[0m\u001b[1;32m    332\u001b[0m \u001b[0;34m\u001b[0m\u001b[0m\n\u001b[1;32m    333\u001b[0m         \u001b[0;31m# error: \"Callable[[VarArg(Any), KwArg(Any)], Any]\" has no\u001b[0m\u001b[0;34m\u001b[0m\u001b[0;34m\u001b[0m\u001b[0m\n",
            "\u001b[0;32m/usr/local/lib/python3.10/dist-packages/pandas/core/generic.py\u001b[0m in \u001b[0;36mdrop\u001b[0;34m(self, labels, axis, index, columns, level, inplace, errors)\u001b[0m\n\u001b[1;32m   4503\u001b[0m         \u001b[0;32mfor\u001b[0m \u001b[0maxis\u001b[0m\u001b[0;34m,\u001b[0m \u001b[0mlabels\u001b[0m \u001b[0;32min\u001b[0m \u001b[0maxes\u001b[0m\u001b[0;34m.\u001b[0m\u001b[0mitems\u001b[0m\u001b[0;34m(\u001b[0m\u001b[0;34m)\u001b[0m\u001b[0;34m:\u001b[0m\u001b[0;34m\u001b[0m\u001b[0;34m\u001b[0m\u001b[0m\n\u001b[1;32m   4504\u001b[0m             \u001b[0;32mif\u001b[0m \u001b[0mlabels\u001b[0m \u001b[0;32mis\u001b[0m \u001b[0;32mnot\u001b[0m \u001b[0;32mNone\u001b[0m\u001b[0;34m:\u001b[0m\u001b[0;34m\u001b[0m\u001b[0;34m\u001b[0m\u001b[0m\n\u001b[0;32m-> 4505\u001b[0;31m                 \u001b[0mobj\u001b[0m \u001b[0;34m=\u001b[0m \u001b[0mobj\u001b[0m\u001b[0;34m.\u001b[0m\u001b[0m_drop_axis\u001b[0m\u001b[0;34m(\u001b[0m\u001b[0mlabels\u001b[0m\u001b[0;34m,\u001b[0m \u001b[0maxis\u001b[0m\u001b[0;34m,\u001b[0m \u001b[0mlevel\u001b[0m\u001b[0;34m=\u001b[0m\u001b[0mlevel\u001b[0m\u001b[0;34m,\u001b[0m \u001b[0merrors\u001b[0m\u001b[0;34m=\u001b[0m\u001b[0merrors\u001b[0m\u001b[0;34m)\u001b[0m\u001b[0;34m\u001b[0m\u001b[0;34m\u001b[0m\u001b[0m\n\u001b[0m\u001b[1;32m   4506\u001b[0m \u001b[0;34m\u001b[0m\u001b[0m\n\u001b[1;32m   4507\u001b[0m         \u001b[0;32mif\u001b[0m \u001b[0minplace\u001b[0m\u001b[0;34m:\u001b[0m\u001b[0;34m\u001b[0m\u001b[0;34m\u001b[0m\u001b[0m\n",
            "\u001b[0;32m/usr/local/lib/python3.10/dist-packages/pandas/core/generic.py\u001b[0m in \u001b[0;36m_drop_axis\u001b[0;34m(self, labels, axis, level, errors, only_slice)\u001b[0m\n\u001b[1;32m   4544\u001b[0m                 \u001b[0mnew_axis\u001b[0m \u001b[0;34m=\u001b[0m \u001b[0maxis\u001b[0m\u001b[0;34m.\u001b[0m\u001b[0mdrop\u001b[0m\u001b[0;34m(\u001b[0m\u001b[0mlabels\u001b[0m\u001b[0;34m,\u001b[0m \u001b[0mlevel\u001b[0m\u001b[0;34m=\u001b[0m\u001b[0mlevel\u001b[0m\u001b[0;34m,\u001b[0m \u001b[0merrors\u001b[0m\u001b[0;34m=\u001b[0m\u001b[0merrors\u001b[0m\u001b[0;34m)\u001b[0m\u001b[0;34m\u001b[0m\u001b[0;34m\u001b[0m\u001b[0m\n\u001b[1;32m   4545\u001b[0m             \u001b[0;32melse\u001b[0m\u001b[0;34m:\u001b[0m\u001b[0;34m\u001b[0m\u001b[0;34m\u001b[0m\u001b[0m\n\u001b[0;32m-> 4546\u001b[0;31m                 \u001b[0mnew_axis\u001b[0m \u001b[0;34m=\u001b[0m \u001b[0maxis\u001b[0m\u001b[0;34m.\u001b[0m\u001b[0mdrop\u001b[0m\u001b[0;34m(\u001b[0m\u001b[0mlabels\u001b[0m\u001b[0;34m,\u001b[0m \u001b[0merrors\u001b[0m\u001b[0;34m=\u001b[0m\u001b[0merrors\u001b[0m\u001b[0;34m)\u001b[0m\u001b[0;34m\u001b[0m\u001b[0;34m\u001b[0m\u001b[0m\n\u001b[0m\u001b[1;32m   4547\u001b[0m             \u001b[0mindexer\u001b[0m \u001b[0;34m=\u001b[0m \u001b[0maxis\u001b[0m\u001b[0;34m.\u001b[0m\u001b[0mget_indexer\u001b[0m\u001b[0;34m(\u001b[0m\u001b[0mnew_axis\u001b[0m\u001b[0;34m)\u001b[0m\u001b[0;34m\u001b[0m\u001b[0;34m\u001b[0m\u001b[0m\n\u001b[1;32m   4548\u001b[0m \u001b[0;34m\u001b[0m\u001b[0m\n",
            "\u001b[0;32m/usr/local/lib/python3.10/dist-packages/pandas/core/indexes/base.py\u001b[0m in \u001b[0;36mdrop\u001b[0;34m(self, labels, errors)\u001b[0m\n\u001b[1;32m   6932\u001b[0m         \u001b[0;32mif\u001b[0m \u001b[0mmask\u001b[0m\u001b[0;34m.\u001b[0m\u001b[0many\u001b[0m\u001b[0;34m(\u001b[0m\u001b[0;34m)\u001b[0m\u001b[0;34m:\u001b[0m\u001b[0;34m\u001b[0m\u001b[0;34m\u001b[0m\u001b[0m\n\u001b[1;32m   6933\u001b[0m             \u001b[0;32mif\u001b[0m \u001b[0merrors\u001b[0m \u001b[0;34m!=\u001b[0m \u001b[0;34m\"ignore\"\u001b[0m\u001b[0;34m:\u001b[0m\u001b[0;34m\u001b[0m\u001b[0;34m\u001b[0m\u001b[0m\n\u001b[0;32m-> 6934\u001b[0;31m                 \u001b[0;32mraise\u001b[0m \u001b[0mKeyError\u001b[0m\u001b[0;34m(\u001b[0m\u001b[0;34mf\"{list(labels[mask])} not found in axis\"\u001b[0m\u001b[0;34m)\u001b[0m\u001b[0;34m\u001b[0m\u001b[0;34m\u001b[0m\u001b[0m\n\u001b[0m\u001b[1;32m   6935\u001b[0m             \u001b[0mindexer\u001b[0m \u001b[0;34m=\u001b[0m \u001b[0mindexer\u001b[0m\u001b[0;34m[\u001b[0m\u001b[0;34m~\u001b[0m\u001b[0mmask\u001b[0m\u001b[0;34m]\u001b[0m\u001b[0;34m\u001b[0m\u001b[0;34m\u001b[0m\u001b[0m\n\u001b[1;32m   6936\u001b[0m         \u001b[0;32mreturn\u001b[0m \u001b[0mself\u001b[0m\u001b[0;34m.\u001b[0m\u001b[0mdelete\u001b[0m\u001b[0;34m(\u001b[0m\u001b[0mindexer\u001b[0m\u001b[0;34m)\u001b[0m\u001b[0;34m\u001b[0m\u001b[0;34m\u001b[0m\u001b[0m\n",
            "\u001b[0;31mKeyError\u001b[0m: \"['EmployeeCount', 'StandardHours'] not found in axis\""
          ]
        }
      ],
      "source": [
        "# Remove the \"Employee Count\" and \"Standard Hours\" columns\n",
        "hr2 = hr2.drop(['EmployeeCount', 'StandardHours'], axis=1)\n",
        "\n",
        "# Print the updated DataFrame\n",
        "print(hr2)"
      ]
    },
    {
      "cell_type": "code",
      "source": [
        "hr2.info()"
      ],
      "metadata": {
        "id": "MooMpfiMMMuq"
      },
      "execution_count": null,
      "outputs": []
    },
    {
      "cell_type": "code",
      "execution_count": null,
      "metadata": {
        "id": "-KQxOr9GjpIx"
      },
      "outputs": [],
      "source": [
        "plt.figure(figsize=(30, 30))\n",
        "sns.heatmap(hr2.corr(), annot=True, cmap=\"coolwarm\", annot_kws={\"size\": 15})\n",
        "\n",
        "plt.show()"
      ]
    },
    {
      "cell_type": "code",
      "source": [
        "corr_column_new = []\n",
        "corr_column_new = hr2.corr().abs().nlargest(11, \"Attrition\").Attrition.sort_values(ascending=False).index\n",
        "corr_column_new"
      ],
      "metadata": {
        "id": "lhzzhXzXIsik"
      },
      "execution_count": null,
      "outputs": []
    },
    {
      "cell_type": "code",
      "source": [
        "fig = plt.figure(figsize=(10,10))\n",
        "\n",
        "ax = fig.add_subplot(1, 1, 1)\n",
        "ax.set_title('10 Variables with Highest Correlation to Attrition')\n",
        "\n",
        "mask = np.triu(np.ones_like(\n",
        "    hr2[corr_column_new].corr(), dtype=np.bool))\n",
        "sns.heatmap(hr2[corr_column_new].corr(),vmin=-1,\n",
        "            vmax=1,cmap='RdYlGn',annot=True,mask=mask,\n",
        "            annot_kws={\"fontsize\":10})\n",
        "\n",
        "plt.show()"
      ],
      "metadata": {
        "id": "6i4cJmR7IUnJ"
      },
      "execution_count": null,
      "outputs": []
    },
    {
      "cell_type": "markdown",
      "metadata": {
        "id": "9M1gzxtRlpTs"
      },
      "source": [
        "## 📝 **Analysis of correlation results (sample analysis):**\n",
        "There are multicoloniarity in our correlation mattrix such as\n",
        "1. Years At Company and Years in Current Role = 0.76\n",
        "2. Years With Current Manager and Years At Company - 0.77\n",
        "3. Total Working Years and Monthly Income = 0.77\n",
        "4. Total Working Years and Job Level = 0.78\n",
        "5. Years In Current Role and Years With Current Manager = 0.71\n",
        "\n",
        "This indicate:\n",
        "1. The more we work in the company the more Monthly Income we get\n",
        "2. We can delete because the value above 0.70 indicate multicolonirarity and if we see the relation between column its pretty obvious"
      ]
    }
  ],
  "metadata": {
    "colab": {
      "toc_visible": true,
      "provenance": []
    },
    "kernelspec": {
      "display_name": "Python 3",
      "name": "python3"
    },
    "language_info": {
      "name": "python"
    }
  },
  "nbformat": 4,
  "nbformat_minor": 0
}